{
 "cells": [
  {
   "cell_type": "code",
   "execution_count": 1,
   "metadata": {},
   "outputs": [],
   "source": [
    "import numpy as np \n",
    "import pandas as pd \n",
    "import seaborn as sns\n",
    "%matplotlib inline\n",
    "from matplotlib import pyplot as plt\n",
    "from matplotlib import style"
   ]
  },
  {
   "cell_type": "code",
   "execution_count": 2,
   "metadata": {},
   "outputs": [],
   "source": [
    "data = pd.read_csv('titanic_dataset.csv')"
   ]
  },
  {
   "cell_type": "code",
   "execution_count": 3,
   "metadata": {
    "scrolled": true
   },
   "outputs": [
    {
     "data": {
      "text/html": [
       "<div>\n",
       "<style scoped>\n",
       "    .dataframe tbody tr th:only-of-type {\n",
       "        vertical-align: middle;\n",
       "    }\n",
       "\n",
       "    .dataframe tbody tr th {\n",
       "        vertical-align: top;\n",
       "    }\n",
       "\n",
       "    .dataframe thead th {\n",
       "        text-align: right;\n",
       "    }\n",
       "</style>\n",
       "<table border=\"1\" class=\"dataframe\">\n",
       "  <thead>\n",
       "    <tr style=\"text-align: right;\">\n",
       "      <th></th>\n",
       "      <th>PassengerId</th>\n",
       "      <th>Survived</th>\n",
       "      <th>Pclass</th>\n",
       "      <th>Name</th>\n",
       "      <th>Sex</th>\n",
       "      <th>Age</th>\n",
       "      <th>SibSp</th>\n",
       "      <th>Parch</th>\n",
       "      <th>Ticket</th>\n",
       "      <th>Fare</th>\n",
       "      <th>Cabin</th>\n",
       "      <th>Embarked</th>\n",
       "    </tr>\n",
       "  </thead>\n",
       "  <tbody>\n",
       "    <tr>\n",
       "      <th>0</th>\n",
       "      <td>1</td>\n",
       "      <td>0</td>\n",
       "      <td>3</td>\n",
       "      <td>Braund, Mr. Owen Harris</td>\n",
       "      <td>male</td>\n",
       "      <td>22.0</td>\n",
       "      <td>1</td>\n",
       "      <td>0</td>\n",
       "      <td>A/5 21171</td>\n",
       "      <td>7.2500</td>\n",
       "      <td>NaN</td>\n",
       "      <td>S</td>\n",
       "    </tr>\n",
       "    <tr>\n",
       "      <th>1</th>\n",
       "      <td>2</td>\n",
       "      <td>1</td>\n",
       "      <td>1</td>\n",
       "      <td>Cumings, Mrs. John Bradley (Florence Briggs Th...</td>\n",
       "      <td>female</td>\n",
       "      <td>38.0</td>\n",
       "      <td>1</td>\n",
       "      <td>0</td>\n",
       "      <td>PC 17599</td>\n",
       "      <td>71.2833</td>\n",
       "      <td>C85</td>\n",
       "      <td>C</td>\n",
       "    </tr>\n",
       "    <tr>\n",
       "      <th>2</th>\n",
       "      <td>3</td>\n",
       "      <td>1</td>\n",
       "      <td>3</td>\n",
       "      <td>Heikkinen, Miss. Laina</td>\n",
       "      <td>female</td>\n",
       "      <td>26.0</td>\n",
       "      <td>0</td>\n",
       "      <td>0</td>\n",
       "      <td>STON/O2. 3101282</td>\n",
       "      <td>7.9250</td>\n",
       "      <td>NaN</td>\n",
       "      <td>S</td>\n",
       "    </tr>\n",
       "    <tr>\n",
       "      <th>3</th>\n",
       "      <td>4</td>\n",
       "      <td>1</td>\n",
       "      <td>1</td>\n",
       "      <td>Futrelle, Mrs. Jacques Heath (Lily May Peel)</td>\n",
       "      <td>female</td>\n",
       "      <td>35.0</td>\n",
       "      <td>1</td>\n",
       "      <td>0</td>\n",
       "      <td>113803</td>\n",
       "      <td>53.1000</td>\n",
       "      <td>C123</td>\n",
       "      <td>S</td>\n",
       "    </tr>\n",
       "    <tr>\n",
       "      <th>4</th>\n",
       "      <td>5</td>\n",
       "      <td>0</td>\n",
       "      <td>3</td>\n",
       "      <td>Allen, Mr. William Henry</td>\n",
       "      <td>male</td>\n",
       "      <td>35.0</td>\n",
       "      <td>0</td>\n",
       "      <td>0</td>\n",
       "      <td>373450</td>\n",
       "      <td>8.0500</td>\n",
       "      <td>NaN</td>\n",
       "      <td>S</td>\n",
       "    </tr>\n",
       "  </tbody>\n",
       "</table>\n",
       "</div>"
      ],
      "text/plain": [
       "   PassengerId  Survived  Pclass  \\\n",
       "0            1         0       3   \n",
       "1            2         1       1   \n",
       "2            3         1       3   \n",
       "3            4         1       1   \n",
       "4            5         0       3   \n",
       "\n",
       "                                                Name     Sex   Age  SibSp  \\\n",
       "0                            Braund, Mr. Owen Harris    male  22.0      1   \n",
       "1  Cumings, Mrs. John Bradley (Florence Briggs Th...  female  38.0      1   \n",
       "2                             Heikkinen, Miss. Laina  female  26.0      0   \n",
       "3       Futrelle, Mrs. Jacques Heath (Lily May Peel)  female  35.0      1   \n",
       "4                           Allen, Mr. William Henry    male  35.0      0   \n",
       "\n",
       "   Parch            Ticket     Fare Cabin Embarked  \n",
       "0      0         A/5 21171   7.2500   NaN        S  \n",
       "1      0          PC 17599  71.2833   C85        C  \n",
       "2      0  STON/O2. 3101282   7.9250   NaN        S  \n",
       "3      0            113803  53.1000  C123        S  \n",
       "4      0            373450   8.0500   NaN        S  "
      ]
     },
     "execution_count": 3,
     "metadata": {},
     "output_type": "execute_result"
    }
   ],
   "source": [
    "data.head()"
   ]
  },
  {
   "cell_type": "markdown",
   "metadata": {},
   "source": [
    "`PassengerId` Unique ID of the passenger\n",
    "\n",
    "`Survived` Survived (1) or died (0)\n",
    "\n",
    "`Pclass` Passenger's class (1st, 2nd, or 3rd)\n",
    "\n",
    "`Name`Passenger's name\n",
    "\n",
    "`Sex` Passenger's sex\n",
    "\n",
    "`Age` Passenger's age\n",
    "\n",
    "`SibSp` Number of siblings/spouses aboard the Titanic\n",
    "\n",
    "`Parch` Number of parents/children aboard the Titanic\n",
    "\n",
    "`Ticket` Ticket number\n",
    "\n",
    "`Fare` Fare paid for ticket\n",
    "\n",
    "`Cabin` Cabin number\n",
    "\n",
    "`Embarked` Where the passenger got on the ship (C - Cherbourg, S - Southampton, Q = Queenstown)"
   ]
  },
  {
   "cell_type": "markdown",
   "metadata": {},
   "source": [
    "### Checking missing values and DF info in general"
   ]
  },
  {
   "cell_type": "code",
   "execution_count": 4,
   "metadata": {
    "scrolled": true
   },
   "outputs": [
    {
     "name": "stdout",
     "output_type": "stream",
     "text": [
      "<class 'pandas.core.frame.DataFrame'>\n",
      "RangeIndex: 891 entries, 0 to 890\n",
      "Data columns (total 12 columns):\n",
      "PassengerId    891 non-null int64\n",
      "Survived       891 non-null int64\n",
      "Pclass         891 non-null int64\n",
      "Name           891 non-null object\n",
      "Sex            891 non-null object\n",
      "Age            714 non-null float64\n",
      "SibSp          891 non-null int64\n",
      "Parch          891 non-null int64\n",
      "Ticket         891 non-null object\n",
      "Fare           891 non-null float64\n",
      "Cabin          204 non-null object\n",
      "Embarked       889 non-null object\n",
      "dtypes: float64(2), int64(5), object(5)\n",
      "memory usage: 83.6+ KB\n"
     ]
    }
   ],
   "source": [
    "data.info()"
   ]
  },
  {
   "cell_type": "markdown",
   "metadata": {},
   "source": [
    "We have some missing values on `Age`, `Cabin` and `Embarked`"
   ]
  },
  {
   "cell_type": "markdown",
   "metadata": {},
   "source": [
    "### Checking data distribution"
   ]
  },
  {
   "cell_type": "code",
   "execution_count": 5,
   "metadata": {
    "scrolled": false
   },
   "outputs": [
    {
     "data": {
      "text/html": [
       "<div>\n",
       "<style scoped>\n",
       "    .dataframe tbody tr th:only-of-type {\n",
       "        vertical-align: middle;\n",
       "    }\n",
       "\n",
       "    .dataframe tbody tr th {\n",
       "        vertical-align: top;\n",
       "    }\n",
       "\n",
       "    .dataframe thead th {\n",
       "        text-align: right;\n",
       "    }\n",
       "</style>\n",
       "<table border=\"1\" class=\"dataframe\">\n",
       "  <thead>\n",
       "    <tr style=\"text-align: right;\">\n",
       "      <th></th>\n",
       "      <th>PassengerId</th>\n",
       "      <th>Survived</th>\n",
       "      <th>Pclass</th>\n",
       "      <th>Age</th>\n",
       "      <th>SibSp</th>\n",
       "      <th>Parch</th>\n",
       "      <th>Fare</th>\n",
       "    </tr>\n",
       "  </thead>\n",
       "  <tbody>\n",
       "    <tr>\n",
       "      <th>count</th>\n",
       "      <td>891.000000</td>\n",
       "      <td>891.000000</td>\n",
       "      <td>891.000000</td>\n",
       "      <td>714.000000</td>\n",
       "      <td>891.000000</td>\n",
       "      <td>891.000000</td>\n",
       "      <td>891.000000</td>\n",
       "    </tr>\n",
       "    <tr>\n",
       "      <th>mean</th>\n",
       "      <td>446.000000</td>\n",
       "      <td>0.383838</td>\n",
       "      <td>2.308642</td>\n",
       "      <td>29.699118</td>\n",
       "      <td>0.523008</td>\n",
       "      <td>0.381594</td>\n",
       "      <td>32.204208</td>\n",
       "    </tr>\n",
       "    <tr>\n",
       "      <th>std</th>\n",
       "      <td>257.353842</td>\n",
       "      <td>0.486592</td>\n",
       "      <td>0.836071</td>\n",
       "      <td>14.526497</td>\n",
       "      <td>1.102743</td>\n",
       "      <td>0.806057</td>\n",
       "      <td>49.693429</td>\n",
       "    </tr>\n",
       "    <tr>\n",
       "      <th>min</th>\n",
       "      <td>1.000000</td>\n",
       "      <td>0.000000</td>\n",
       "      <td>1.000000</td>\n",
       "      <td>0.420000</td>\n",
       "      <td>0.000000</td>\n",
       "      <td>0.000000</td>\n",
       "      <td>0.000000</td>\n",
       "    </tr>\n",
       "    <tr>\n",
       "      <th>25%</th>\n",
       "      <td>223.500000</td>\n",
       "      <td>0.000000</td>\n",
       "      <td>2.000000</td>\n",
       "      <td>20.125000</td>\n",
       "      <td>0.000000</td>\n",
       "      <td>0.000000</td>\n",
       "      <td>7.910400</td>\n",
       "    </tr>\n",
       "    <tr>\n",
       "      <th>50%</th>\n",
       "      <td>446.000000</td>\n",
       "      <td>0.000000</td>\n",
       "      <td>3.000000</td>\n",
       "      <td>28.000000</td>\n",
       "      <td>0.000000</td>\n",
       "      <td>0.000000</td>\n",
       "      <td>14.454200</td>\n",
       "    </tr>\n",
       "    <tr>\n",
       "      <th>75%</th>\n",
       "      <td>668.500000</td>\n",
       "      <td>1.000000</td>\n",
       "      <td>3.000000</td>\n",
       "      <td>38.000000</td>\n",
       "      <td>1.000000</td>\n",
       "      <td>0.000000</td>\n",
       "      <td>31.000000</td>\n",
       "    </tr>\n",
       "    <tr>\n",
       "      <th>max</th>\n",
       "      <td>891.000000</td>\n",
       "      <td>1.000000</td>\n",
       "      <td>3.000000</td>\n",
       "      <td>80.000000</td>\n",
       "      <td>8.000000</td>\n",
       "      <td>6.000000</td>\n",
       "      <td>512.329200</td>\n",
       "    </tr>\n",
       "  </tbody>\n",
       "</table>\n",
       "</div>"
      ],
      "text/plain": [
       "       PassengerId    Survived      Pclass         Age       SibSp  \\\n",
       "count   891.000000  891.000000  891.000000  714.000000  891.000000   \n",
       "mean    446.000000    0.383838    2.308642   29.699118    0.523008   \n",
       "std     257.353842    0.486592    0.836071   14.526497    1.102743   \n",
       "min       1.000000    0.000000    1.000000    0.420000    0.000000   \n",
       "25%     223.500000    0.000000    2.000000   20.125000    0.000000   \n",
       "50%     446.000000    0.000000    3.000000   28.000000    0.000000   \n",
       "75%     668.500000    1.000000    3.000000   38.000000    1.000000   \n",
       "max     891.000000    1.000000    3.000000   80.000000    8.000000   \n",
       "\n",
       "            Parch        Fare  \n",
       "count  891.000000  891.000000  \n",
       "mean     0.381594   32.204208  \n",
       "std      0.806057   49.693429  \n",
       "min      0.000000    0.000000  \n",
       "25%      0.000000    7.910400  \n",
       "50%      0.000000   14.454200  \n",
       "75%      0.000000   31.000000  \n",
       "max      6.000000  512.329200  "
      ]
     },
     "execution_count": 5,
     "metadata": {},
     "output_type": "execute_result"
    }
   ],
   "source": [
    "data.describe()"
   ]
  },
  {
   "cell_type": "markdown",
   "metadata": {},
   "source": [
    "We can see 38% of people survived. Also, is interesting to see the max and min of certain features like Age and Fare.\n",
    "\n",
    "I don't see any weird values or outliers that don't make sense or would affect the analysis."
   ]
  },
  {
   "cell_type": "markdown",
   "metadata": {},
   "source": [
    "...Just checking"
   ]
  },
  {
   "cell_type": "code",
   "execution_count": 6,
   "metadata": {},
   "outputs": [
    {
     "data": {
      "text/plain": [
       "array([0, 1])"
      ]
     },
     "execution_count": 6,
     "metadata": {},
     "output_type": "execute_result"
    }
   ],
   "source": [
    "data['Survived'].unique()"
   ]
  },
  {
   "cell_type": "markdown",
   "metadata": {},
   "source": [
    "# Cleansing and Feature Engineering\n",
    "\n",
    "The first thing to know is that we have (obviously) a classification problem.\n",
    "The steps I think we need to take are the following:\n",
    "\n",
    "* We need to deal with missing values from `Age`, `Cabin` and `Embarked`\n",
    "* It seems to be a good idea to create a new feature combining `SibSp` and `Parch`: `fam_size`.\n",
    "* Also, from `Name` we can extract a new feature: `Title`. Which would give us some information about the person.\n",
    "* We also need to represent our features as numbers somehow, in particular `Title`, `Embarked`, `Cabin` and `Sex`.\n",
    "    - `Embarked` does not seem to have any levels so one-hot encoding might work\n",
    "    - `Sex` can be binary\n",
    "    - `Cabin` might be tricky\n",
    "    - `Title` can be a label encoding since it seems there are levels"
   ]
  },
  {
   "cell_type": "markdown",
   "metadata": {},
   "source": [
    "## Missing values"
   ]
  },
  {
   "cell_type": "code",
   "execution_count": 7,
   "metadata": {
    "scrolled": true
   },
   "outputs": [
    {
     "data": {
      "text/html": [
       "<div>\n",
       "<style scoped>\n",
       "    .dataframe tbody tr th:only-of-type {\n",
       "        vertical-align: middle;\n",
       "    }\n",
       "\n",
       "    .dataframe tbody tr th {\n",
       "        vertical-align: top;\n",
       "    }\n",
       "\n",
       "    .dataframe thead th {\n",
       "        text-align: right;\n",
       "    }\n",
       "</style>\n",
       "<table border=\"1\" class=\"dataframe\">\n",
       "  <thead>\n",
       "    <tr style=\"text-align: right;\">\n",
       "      <th></th>\n",
       "      <th>Total</th>\n",
       "      <th>%</th>\n",
       "    </tr>\n",
       "  </thead>\n",
       "  <tbody>\n",
       "    <tr>\n",
       "      <th>Cabin</th>\n",
       "      <td>687</td>\n",
       "      <td>77.104377</td>\n",
       "    </tr>\n",
       "    <tr>\n",
       "      <th>Age</th>\n",
       "      <td>177</td>\n",
       "      <td>19.865320</td>\n",
       "    </tr>\n",
       "    <tr>\n",
       "      <th>Embarked</th>\n",
       "      <td>2</td>\n",
       "      <td>0.224467</td>\n",
       "    </tr>\n",
       "    <tr>\n",
       "      <th>Fare</th>\n",
       "      <td>0</td>\n",
       "      <td>0.000000</td>\n",
       "    </tr>\n",
       "    <tr>\n",
       "      <th>Ticket</th>\n",
       "      <td>0</td>\n",
       "      <td>0.000000</td>\n",
       "    </tr>\n",
       "  </tbody>\n",
       "</table>\n",
       "</div>"
      ],
      "text/plain": [
       "          Total          %\n",
       "Cabin       687  77.104377\n",
       "Age         177  19.865320\n",
       "Embarked      2   0.224467\n",
       "Fare          0   0.000000\n",
       "Ticket        0   0.000000"
      ]
     },
     "execution_count": 7,
     "metadata": {},
     "output_type": "execute_result"
    }
   ],
   "source": [
    "total = data.isnull().sum().sort_values(ascending=False)\n",
    "\n",
    "percent = total/len(data)*100\n",
    "\n",
    "missing_data = pd.concat([total, percent], axis=1, keys=['Total', '%'])\n",
    "missing_data.head(5)"
   ]
  },
  {
   "cell_type": "markdown",
   "metadata": {},
   "source": [
    "`Cabin` has 77% of missing values, I think it makes sense to get rid of it."
   ]
  },
  {
   "cell_type": "markdown",
   "metadata": {},
   "source": [
    "`Embarked` is a categorical feature and has 2 missing values so I think it makes sense to fill it with the mode"
   ]
  },
  {
   "cell_type": "code",
   "execution_count": 8,
   "metadata": {},
   "outputs": [
    {
     "data": {
      "text/plain": [
       "count     889\n",
       "unique      3\n",
       "top         S\n",
       "freq      644\n",
       "Name: Embarked, dtype: object"
      ]
     },
     "execution_count": 8,
     "metadata": {},
     "output_type": "execute_result"
    }
   ],
   "source": [
    "data['Embarked'].describe()"
   ]
  },
  {
   "cell_type": "code",
   "execution_count": 9,
   "metadata": {},
   "outputs": [
    {
     "data": {
      "text/plain": [
       "array(['S', 'C', 'Q', nan], dtype=object)"
      ]
     },
     "execution_count": 9,
     "metadata": {},
     "output_type": "execute_result"
    }
   ],
   "source": [
    "data['Embarked'].unique()"
   ]
  },
  {
   "cell_type": "code",
   "execution_count": 10,
   "metadata": {},
   "outputs": [
    {
     "data": {
      "text/plain": [
       "'S'"
      ]
     },
     "execution_count": 10,
     "metadata": {},
     "output_type": "execute_result"
    }
   ],
   "source": [
    "data['Embarked'].mode().iloc[0]"
   ]
  },
  {
   "cell_type": "code",
   "execution_count": 11,
   "metadata": {},
   "outputs": [
    {
     "data": {
      "text/plain": [
       "array(['S', 'C', 'Q'], dtype=object)"
      ]
     },
     "execution_count": 11,
     "metadata": {},
     "output_type": "execute_result"
    }
   ],
   "source": [
    "data['Embarked'] = data['Embarked'].fillna(data['Embarked'].mode().iloc[0])\n",
    "data['Embarked'].unique()"
   ]
  },
  {
   "cell_type": "markdown",
   "metadata": {},
   "source": [
    "`Age` seems like a good feature for predicting survival, so I think we can do the following...\n",
    "\n",
    "It is a good idea to check if it make sense to bucket the values.\n",
    "\n",
    "Then, if it does, we can see the relationship between `Age` and the features `SibSp`, `Parch`and `Fare`.\n",
    "\n",
    "Afterwards, for each missing value we check the `SibSp`, `Parch` and `Fare` values and by the similarity between its values and each bucket values we assign a bucket and then a median age of that bucket.\n",
    "\n",
    "I chose `SibSp`, `Parch` and `Fare` because they seem to be more related to `Age`... but let's check that."
   ]
  },
  {
   "cell_type": "code",
   "execution_count": 12,
   "metadata": {},
   "outputs": [
    {
     "data": {
      "text/plain": [
       "PassengerId    0.036847\n",
       "Survived      -0.077221\n",
       "Pclass        -0.369226\n",
       "Age            1.000000\n",
       "SibSp         -0.308247\n",
       "Parch         -0.189119\n",
       "Fare           0.096067\n",
       "Name: Age, dtype: float64"
      ]
     },
     "execution_count": 12,
     "metadata": {},
     "output_type": "execute_result"
    }
   ],
   "source": [
    "data.corr(method='pearson')['Age']"
   ]
  },
  {
   "cell_type": "markdown",
   "metadata": {},
   "source": [
    "So it seems `SibSp`, `Parch` and `Pclass` are the most correlated (negatively)."
   ]
  },
  {
   "cell_type": "markdown",
   "metadata": {},
   "source": [
    "Bucketing"
   ]
  },
  {
   "cell_type": "code",
   "execution_count": 13,
   "metadata": {},
   "outputs": [],
   "source": [
    "''' \n",
    "Buckets:\n",
    "    0: 0-11, 1:12-17, 2:18-24, 3:25-34, 4:35-44, 5:45-54, 6:55-64, 7:65-80, 8:NaN\n",
    "'''\n",
    "bins = (12,18,25,35,45,55,65,80)\n",
    "categories = np.digitize(data['Age'], bins)\n",
    "data['age_group'] = categories"
   ]
  },
  {
   "cell_type": "code",
   "execution_count": 14,
   "metadata": {},
   "outputs": [
    {
     "data": {
      "text/plain": [
       "PassengerId    0.000795\n",
       "Survived      -0.115885\n",
       "Pclass        -0.048274\n",
       "Age            0.979672\n",
       "SibSp         -0.132612\n",
       "Parch         -0.218272\n",
       "Fare          -0.028155\n",
       "age_group      1.000000\n",
       "Name: age_group, dtype: float64"
      ]
     },
     "execution_count": 14,
     "metadata": {},
     "output_type": "execute_result"
    }
   ],
   "source": [
    "data.corr(method='pearson')['age_group']"
   ]
  },
  {
   "cell_type": "code",
   "execution_count": 15,
   "metadata": {},
   "outputs": [
    {
     "data": {
      "text/plain": [
       "{0: array([1.88, 1.43, 2.63]),\n",
       " 1: array([0.82, 0.49, 2.51]),\n",
       " 2: array([0.33, 0.29, 2.46]),\n",
       " 3: array([0.33, 0.19, 2.35]),\n",
       " 4: array([0.37, 0.56, 2.  ]),\n",
       " 5: array([0.41, 0.32, 1.67]),\n",
       " 6: array([0.16, 0.32, 1.45]),\n",
       " 7: array([0.1, 0.2, 1.8])}"
      ]
     },
     "execution_count": 15,
     "metadata": {},
     "output_type": "execute_result"
    }
   ],
   "source": [
    "''' \n",
    "The results should be a dict with bins as keys and 3 value vectors as values.\n",
    "e.g.:\n",
    "    {\n",
    "    1:[2.5,4.3,1],\n",
    "    2:[3.2, 2.1,2],\n",
    "    .\n",
    "    . etc..\n",
    "    }\n",
    "'''\n",
    "desc = {}\n",
    "for group in [0,1,2,3,4,5,6,7]:\n",
    "    desc[group] = []\n",
    "    desc[group].append(round(data[data['age_group']==group]['SibSp'].mean(),2))\n",
    "    desc[group].append(round(data[data['age_group']==group]['Parch'].mean(), 2))\n",
    "    desc[group].append(round(data[data['age_group']==group]['Pclass'].mean(), 2))\n",
    "    desc[group] = np.array(desc[group])\n",
    "desc"
   ]
  },
  {
   "cell_type": "code",
   "execution_count": 16,
   "metadata": {},
   "outputs": [],
   "source": [
    "from scipy.spatial import distance\n",
    "\n",
    "'''\n",
    "e.g.\n",
    "\n",
    "arr = np.array([0,0,3])\n",
    "s = distance_category(desc, arr)\n",
    "res = 2\n",
    "'''\n",
    "\n",
    "def distance_category(desc, arr1):\n",
    "    scores = {}\n",
    "    for group in [0,1,2,3,4,5,6,7]:\n",
    "        scores[distance.euclidean(desc[group], arr1)] = group\n",
    "    return scores[min(scores.keys())]"
   ]
  },
  {
   "cell_type": "code",
   "execution_count": 17,
   "metadata": {},
   "outputs": [],
   "source": [
    "data['isnull'] = data['Age'].isnull()\n",
    "data['age_group'] = data.apply(lambda x: \n",
    "                               distance_category(desc, np.array([x['SibSp'], x['Parch'], x['Pclass']])) \n",
    "                               if x['isnull'] else x['age_group'], axis=1)"
   ]
  },
  {
   "cell_type": "code",
   "execution_count": 18,
   "metadata": {},
   "outputs": [
    {
     "data": {
      "text/plain": [
       "{0: 4, 1: 15, 2: 21, 3: 29, 4: 38, 5: 48, 6: 59, 7: 68}"
      ]
     },
     "execution_count": 18,
     "metadata": {},
     "output_type": "execute_result"
    }
   ],
   "source": [
    "age_estim = {}\n",
    "for group in [0,1,2,3,4,5,6,7]:\n",
    "    age_estim[group] = int(data[data['age_group']==group]['Age'].mean())\n",
    "age_estim        "
   ]
  },
  {
   "cell_type": "code",
   "execution_count": 19,
   "metadata": {},
   "outputs": [],
   "source": [
    "data['Age'] = data.apply(lambda x: age_estim[x['age_group']] if x['isnull'] else x['Age'], axis=1)\n",
    "\n",
    "data = data.drop('isnull', axis=1)"
   ]
  },
  {
   "cell_type": "code",
   "execution_count": 20,
   "metadata": {
    "scrolled": false
   },
   "outputs": [
    {
     "data": {
      "text/html": [
       "<div>\n",
       "<style scoped>\n",
       "    .dataframe tbody tr th:only-of-type {\n",
       "        vertical-align: middle;\n",
       "    }\n",
       "\n",
       "    .dataframe tbody tr th {\n",
       "        vertical-align: top;\n",
       "    }\n",
       "\n",
       "    .dataframe thead th {\n",
       "        text-align: right;\n",
       "    }\n",
       "</style>\n",
       "<table border=\"1\" class=\"dataframe\">\n",
       "  <thead>\n",
       "    <tr style=\"text-align: right;\">\n",
       "      <th></th>\n",
       "      <th>PassengerId</th>\n",
       "      <th>Survived</th>\n",
       "      <th>Pclass</th>\n",
       "      <th>Name</th>\n",
       "      <th>Sex</th>\n",
       "      <th>Age</th>\n",
       "      <th>SibSp</th>\n",
       "      <th>Parch</th>\n",
       "      <th>Ticket</th>\n",
       "      <th>Fare</th>\n",
       "      <th>Cabin</th>\n",
       "      <th>Embarked</th>\n",
       "      <th>age_group</th>\n",
       "    </tr>\n",
       "  </thead>\n",
       "  <tbody>\n",
       "    <tr>\n",
       "      <th>0</th>\n",
       "      <td>1</td>\n",
       "      <td>0</td>\n",
       "      <td>3</td>\n",
       "      <td>Braund, Mr. Owen Harris</td>\n",
       "      <td>male</td>\n",
       "      <td>22.0</td>\n",
       "      <td>1</td>\n",
       "      <td>0</td>\n",
       "      <td>A/5 21171</td>\n",
       "      <td>7.2500</td>\n",
       "      <td>NaN</td>\n",
       "      <td>S</td>\n",
       "      <td>2</td>\n",
       "    </tr>\n",
       "    <tr>\n",
       "      <th>1</th>\n",
       "      <td>2</td>\n",
       "      <td>1</td>\n",
       "      <td>1</td>\n",
       "      <td>Cumings, Mrs. John Bradley (Florence Briggs Th...</td>\n",
       "      <td>female</td>\n",
       "      <td>38.0</td>\n",
       "      <td>1</td>\n",
       "      <td>0</td>\n",
       "      <td>PC 17599</td>\n",
       "      <td>71.2833</td>\n",
       "      <td>C85</td>\n",
       "      <td>C</td>\n",
       "      <td>4</td>\n",
       "    </tr>\n",
       "    <tr>\n",
       "      <th>2</th>\n",
       "      <td>3</td>\n",
       "      <td>1</td>\n",
       "      <td>3</td>\n",
       "      <td>Heikkinen, Miss. Laina</td>\n",
       "      <td>female</td>\n",
       "      <td>26.0</td>\n",
       "      <td>0</td>\n",
       "      <td>0</td>\n",
       "      <td>STON/O2. 3101282</td>\n",
       "      <td>7.9250</td>\n",
       "      <td>NaN</td>\n",
       "      <td>S</td>\n",
       "      <td>3</td>\n",
       "    </tr>\n",
       "    <tr>\n",
       "      <th>3</th>\n",
       "      <td>4</td>\n",
       "      <td>1</td>\n",
       "      <td>1</td>\n",
       "      <td>Futrelle, Mrs. Jacques Heath (Lily May Peel)</td>\n",
       "      <td>female</td>\n",
       "      <td>35.0</td>\n",
       "      <td>1</td>\n",
       "      <td>0</td>\n",
       "      <td>113803</td>\n",
       "      <td>53.1000</td>\n",
       "      <td>C123</td>\n",
       "      <td>S</td>\n",
       "      <td>4</td>\n",
       "    </tr>\n",
       "    <tr>\n",
       "      <th>4</th>\n",
       "      <td>5</td>\n",
       "      <td>0</td>\n",
       "      <td>3</td>\n",
       "      <td>Allen, Mr. William Henry</td>\n",
       "      <td>male</td>\n",
       "      <td>35.0</td>\n",
       "      <td>0</td>\n",
       "      <td>0</td>\n",
       "      <td>373450</td>\n",
       "      <td>8.0500</td>\n",
       "      <td>NaN</td>\n",
       "      <td>S</td>\n",
       "      <td>4</td>\n",
       "    </tr>\n",
       "    <tr>\n",
       "      <th>5</th>\n",
       "      <td>6</td>\n",
       "      <td>0</td>\n",
       "      <td>3</td>\n",
       "      <td>Moran, Mr. James</td>\n",
       "      <td>male</td>\n",
       "      <td>21.0</td>\n",
       "      <td>0</td>\n",
       "      <td>0</td>\n",
       "      <td>330877</td>\n",
       "      <td>8.4583</td>\n",
       "      <td>NaN</td>\n",
       "      <td>Q</td>\n",
       "      <td>2</td>\n",
       "    </tr>\n",
       "    <tr>\n",
       "      <th>6</th>\n",
       "      <td>7</td>\n",
       "      <td>0</td>\n",
       "      <td>1</td>\n",
       "      <td>McCarthy, Mr. Timothy J</td>\n",
       "      <td>male</td>\n",
       "      <td>54.0</td>\n",
       "      <td>0</td>\n",
       "      <td>0</td>\n",
       "      <td>17463</td>\n",
       "      <td>51.8625</td>\n",
       "      <td>E46</td>\n",
       "      <td>S</td>\n",
       "      <td>5</td>\n",
       "    </tr>\n",
       "    <tr>\n",
       "      <th>7</th>\n",
       "      <td>8</td>\n",
       "      <td>0</td>\n",
       "      <td>3</td>\n",
       "      <td>Palsson, Master. Gosta Leonard</td>\n",
       "      <td>male</td>\n",
       "      <td>2.0</td>\n",
       "      <td>3</td>\n",
       "      <td>1</td>\n",
       "      <td>349909</td>\n",
       "      <td>21.0750</td>\n",
       "      <td>NaN</td>\n",
       "      <td>S</td>\n",
       "      <td>0</td>\n",
       "    </tr>\n",
       "    <tr>\n",
       "      <th>8</th>\n",
       "      <td>9</td>\n",
       "      <td>1</td>\n",
       "      <td>3</td>\n",
       "      <td>Johnson, Mrs. Oscar W (Elisabeth Vilhelmina Berg)</td>\n",
       "      <td>female</td>\n",
       "      <td>27.0</td>\n",
       "      <td>0</td>\n",
       "      <td>2</td>\n",
       "      <td>347742</td>\n",
       "      <td>11.1333</td>\n",
       "      <td>NaN</td>\n",
       "      <td>S</td>\n",
       "      <td>3</td>\n",
       "    </tr>\n",
       "    <tr>\n",
       "      <th>9</th>\n",
       "      <td>10</td>\n",
       "      <td>1</td>\n",
       "      <td>2</td>\n",
       "      <td>Nasser, Mrs. Nicholas (Adele Achem)</td>\n",
       "      <td>female</td>\n",
       "      <td>14.0</td>\n",
       "      <td>1</td>\n",
       "      <td>0</td>\n",
       "      <td>237736</td>\n",
       "      <td>30.0708</td>\n",
       "      <td>NaN</td>\n",
       "      <td>C</td>\n",
       "      <td>1</td>\n",
       "    </tr>\n",
       "  </tbody>\n",
       "</table>\n",
       "</div>"
      ],
      "text/plain": [
       "   PassengerId  Survived  Pclass  \\\n",
       "0            1         0       3   \n",
       "1            2         1       1   \n",
       "2            3         1       3   \n",
       "3            4         1       1   \n",
       "4            5         0       3   \n",
       "5            6         0       3   \n",
       "6            7         0       1   \n",
       "7            8         0       3   \n",
       "8            9         1       3   \n",
       "9           10         1       2   \n",
       "\n",
       "                                                Name     Sex   Age  SibSp  \\\n",
       "0                            Braund, Mr. Owen Harris    male  22.0      1   \n",
       "1  Cumings, Mrs. John Bradley (Florence Briggs Th...  female  38.0      1   \n",
       "2                             Heikkinen, Miss. Laina  female  26.0      0   \n",
       "3       Futrelle, Mrs. Jacques Heath (Lily May Peel)  female  35.0      1   \n",
       "4                           Allen, Mr. William Henry    male  35.0      0   \n",
       "5                                   Moran, Mr. James    male  21.0      0   \n",
       "6                            McCarthy, Mr. Timothy J    male  54.0      0   \n",
       "7                     Palsson, Master. Gosta Leonard    male   2.0      3   \n",
       "8  Johnson, Mrs. Oscar W (Elisabeth Vilhelmina Berg)  female  27.0      0   \n",
       "9                Nasser, Mrs. Nicholas (Adele Achem)  female  14.0      1   \n",
       "\n",
       "   Parch            Ticket     Fare Cabin Embarked  age_group  \n",
       "0      0         A/5 21171   7.2500   NaN        S          2  \n",
       "1      0          PC 17599  71.2833   C85        C          4  \n",
       "2      0  STON/O2. 3101282   7.9250   NaN        S          3  \n",
       "3      0            113803  53.1000  C123        S          4  \n",
       "4      0            373450   8.0500   NaN        S          4  \n",
       "5      0            330877   8.4583   NaN        Q          2  \n",
       "6      0             17463  51.8625   E46        S          5  \n",
       "7      1            349909  21.0750   NaN        S          0  \n",
       "8      2            347742  11.1333   NaN        S          3  \n",
       "9      0            237736  30.0708   NaN        C          1  "
      ]
     },
     "execution_count": 20,
     "metadata": {},
     "output_type": "execute_result"
    }
   ],
   "source": [
    "data.head(10)"
   ]
  },
  {
   "cell_type": "markdown",
   "metadata": {},
   "source": [
    "Awesome, now we don't have any missing values and we have a new feature `age_group`"
   ]
  },
  {
   "cell_type": "markdown",
   "metadata": {},
   "source": [
    "### Family size"
   ]
  },
  {
   "cell_type": "markdown",
   "metadata": {},
   "source": [
    "I decided Family size might be a good indicator so we'll add it just by adding Siblings-Spouse plus Parents-Children"
   ]
  },
  {
   "cell_type": "code",
   "execution_count": 21,
   "metadata": {},
   "outputs": [],
   "source": [
    "data['fam_size'] = data.apply(lambda x: x['SibSp']+x['Parch'], axis=1)"
   ]
  },
  {
   "cell_type": "markdown",
   "metadata": {},
   "source": [
    "### Title Extraction"
   ]
  },
  {
   "cell_type": "code",
   "execution_count": 22,
   "metadata": {},
   "outputs": [],
   "source": [
    "import re\n",
    "\n",
    "# Some titles I watched on a quick search\n",
    "title_list=['Mrs', 'Mr', 'Master', 'Miss', 'Major',\n",
    "            'Dr', 'Ms', 'Capt','Don', 'other']\n",
    "patterns = {\n",
    "    re.compile(r'Mrs', re.IGNORECASE): 'Mrs',\n",
    "    re.compile(r'Mr', re.IGNORECASE): 'Mr',\n",
    "    re.compile(r'Master', re.IGNORECASE): 'Master',\n",
    "    re.compile(r'Miss', re.IGNORECASE): 'Miss',\n",
    "    re.compile(r'Major', re.IGNORECASE): 'Major',\n",
    "    re.compile(r'Dr', re.IGNORECASE): 'Dr',\n",
    "    re.compile(r'Ms', re.IGNORECASE): 'Ms',\n",
    "    re.compile(r'Capt', re.IGNORECASE): 'Capt',\n",
    "    re.compile(r'Don', re.IGNORECASE): 'Don',\n",
    "}\n",
    "\n",
    "def find_title(name):\n",
    "    title = 'Other'\n",
    "    for patt, val in patterns.items():\n",
    "        if re.search(patt, name):\n",
    "            title = val\n",
    "    return title"
   ]
  },
  {
   "cell_type": "code",
   "execution_count": 23,
   "metadata": {},
   "outputs": [],
   "source": [
    "data['title'] = data['Name'].map(lambda x: find_title(x))"
   ]
  },
  {
   "cell_type": "code",
   "execution_count": 24,
   "metadata": {
    "scrolled": true
   },
   "outputs": [
    {
     "data": {
      "text/html": [
       "<div>\n",
       "<style scoped>\n",
       "    .dataframe tbody tr th:only-of-type {\n",
       "        vertical-align: middle;\n",
       "    }\n",
       "\n",
       "    .dataframe tbody tr th {\n",
       "        vertical-align: top;\n",
       "    }\n",
       "\n",
       "    .dataframe thead th {\n",
       "        text-align: right;\n",
       "    }\n",
       "</style>\n",
       "<table border=\"1\" class=\"dataframe\">\n",
       "  <thead>\n",
       "    <tr style=\"text-align: right;\">\n",
       "      <th></th>\n",
       "      <th>PassengerId</th>\n",
       "      <th>Survived</th>\n",
       "      <th>Pclass</th>\n",
       "      <th>Name</th>\n",
       "      <th>Sex</th>\n",
       "      <th>Age</th>\n",
       "      <th>SibSp</th>\n",
       "      <th>Parch</th>\n",
       "      <th>Ticket</th>\n",
       "      <th>Fare</th>\n",
       "      <th>Cabin</th>\n",
       "      <th>Embarked</th>\n",
       "      <th>age_group</th>\n",
       "      <th>fam_size</th>\n",
       "      <th>title</th>\n",
       "    </tr>\n",
       "  </thead>\n",
       "  <tbody>\n",
       "    <tr>\n",
       "      <th>0</th>\n",
       "      <td>1</td>\n",
       "      <td>0</td>\n",
       "      <td>3</td>\n",
       "      <td>Braund, Mr. Owen Harris</td>\n",
       "      <td>male</td>\n",
       "      <td>22.0</td>\n",
       "      <td>1</td>\n",
       "      <td>0</td>\n",
       "      <td>A/5 21171</td>\n",
       "      <td>7.2500</td>\n",
       "      <td>NaN</td>\n",
       "      <td>S</td>\n",
       "      <td>2</td>\n",
       "      <td>1</td>\n",
       "      <td>Mr</td>\n",
       "    </tr>\n",
       "    <tr>\n",
       "      <th>1</th>\n",
       "      <td>2</td>\n",
       "      <td>1</td>\n",
       "      <td>1</td>\n",
       "      <td>Cumings, Mrs. John Bradley (Florence Briggs Th...</td>\n",
       "      <td>female</td>\n",
       "      <td>38.0</td>\n",
       "      <td>1</td>\n",
       "      <td>0</td>\n",
       "      <td>PC 17599</td>\n",
       "      <td>71.2833</td>\n",
       "      <td>C85</td>\n",
       "      <td>C</td>\n",
       "      <td>4</td>\n",
       "      <td>1</td>\n",
       "      <td>Mr</td>\n",
       "    </tr>\n",
       "    <tr>\n",
       "      <th>2</th>\n",
       "      <td>3</td>\n",
       "      <td>1</td>\n",
       "      <td>3</td>\n",
       "      <td>Heikkinen, Miss. Laina</td>\n",
       "      <td>female</td>\n",
       "      <td>26.0</td>\n",
       "      <td>0</td>\n",
       "      <td>0</td>\n",
       "      <td>STON/O2. 3101282</td>\n",
       "      <td>7.9250</td>\n",
       "      <td>NaN</td>\n",
       "      <td>S</td>\n",
       "      <td>3</td>\n",
       "      <td>0</td>\n",
       "      <td>Miss</td>\n",
       "    </tr>\n",
       "    <tr>\n",
       "      <th>3</th>\n",
       "      <td>4</td>\n",
       "      <td>1</td>\n",
       "      <td>1</td>\n",
       "      <td>Futrelle, Mrs. Jacques Heath (Lily May Peel)</td>\n",
       "      <td>female</td>\n",
       "      <td>35.0</td>\n",
       "      <td>1</td>\n",
       "      <td>0</td>\n",
       "      <td>113803</td>\n",
       "      <td>53.1000</td>\n",
       "      <td>C123</td>\n",
       "      <td>S</td>\n",
       "      <td>4</td>\n",
       "      <td>1</td>\n",
       "      <td>Mr</td>\n",
       "    </tr>\n",
       "    <tr>\n",
       "      <th>4</th>\n",
       "      <td>5</td>\n",
       "      <td>0</td>\n",
       "      <td>3</td>\n",
       "      <td>Allen, Mr. William Henry</td>\n",
       "      <td>male</td>\n",
       "      <td>35.0</td>\n",
       "      <td>0</td>\n",
       "      <td>0</td>\n",
       "      <td>373450</td>\n",
       "      <td>8.0500</td>\n",
       "      <td>NaN</td>\n",
       "      <td>S</td>\n",
       "      <td>4</td>\n",
       "      <td>0</td>\n",
       "      <td>Mr</td>\n",
       "    </tr>\n",
       "  </tbody>\n",
       "</table>\n",
       "</div>"
      ],
      "text/plain": [
       "   PassengerId  Survived  Pclass  \\\n",
       "0            1         0       3   \n",
       "1            2         1       1   \n",
       "2            3         1       3   \n",
       "3            4         1       1   \n",
       "4            5         0       3   \n",
       "\n",
       "                                                Name     Sex   Age  SibSp  \\\n",
       "0                            Braund, Mr. Owen Harris    male  22.0      1   \n",
       "1  Cumings, Mrs. John Bradley (Florence Briggs Th...  female  38.0      1   \n",
       "2                             Heikkinen, Miss. Laina  female  26.0      0   \n",
       "3       Futrelle, Mrs. Jacques Heath (Lily May Peel)  female  35.0      1   \n",
       "4                           Allen, Mr. William Henry    male  35.0      0   \n",
       "\n",
       "   Parch            Ticket     Fare Cabin Embarked  age_group  fam_size title  \n",
       "0      0         A/5 21171   7.2500   NaN        S          2         1    Mr  \n",
       "1      0          PC 17599  71.2833   C85        C          4         1    Mr  \n",
       "2      0  STON/O2. 3101282   7.9250   NaN        S          3         0  Miss  \n",
       "3      0            113803  53.1000  C123        S          4         1    Mr  \n",
       "4      0            373450   8.0500   NaN        S          4         0    Mr  "
      ]
     },
     "execution_count": 24,
     "metadata": {},
     "output_type": "execute_result"
    }
   ],
   "source": [
    "data.head()"
   ]
  },
  {
   "cell_type": "markdown",
   "metadata": {},
   "source": [
    "## Features to Numbers\n",
    "\n",
    "We have to transform: `Title`, `Embarked`, `Cabin` and `Sex`.\n",
    "I think it would be a good idea to do the following:\n",
    " \n",
    " * `Embarked`: One-hot encoding, 3 categories\n",
    " \n",
    " * `Sex`: Binary, 2 categories\n",
    " \n",
    " * `Cabin`: droped\n",
    " \n",
    " * `Title`: can be a label encoding (are there levels?)\n",
    " \n",
    " \n",
    " We can try this approach and see how it goes.\n",
    " \n",
    " Other options might be: \n",
    " \n",
    " * `Sex`: One-hot encoding, 2 categories\n",
    " \n",
    " * `Title`: One-hot encoding\n",
    " "
   ]
  },
  {
   "cell_type": "markdown",
   "metadata": {},
   "source": [
    "### Embarked Encoding"
   ]
  },
  {
   "cell_type": "code",
   "execution_count": 25,
   "metadata": {},
   "outputs": [],
   "source": [
    "data = pd.concat([data, pd.get_dummies(data['Embarked'],prefix='embarked')],axis=1)\n",
    "data = data.drop('Embarked', axis=1)"
   ]
  },
  {
   "cell_type": "markdown",
   "metadata": {},
   "source": [
    "### Sex Encoding"
   ]
  },
  {
   "cell_type": "code",
   "execution_count": 26,
   "metadata": {},
   "outputs": [],
   "source": [
    "data['sex_bi'] = data['Sex'].map(lambda x: 1 if x=='male' else 0)\n",
    "data = data.drop('Sex', axis=1)"
   ]
  },
  {
   "cell_type": "markdown",
   "metadata": {},
   "source": [
    "### Title encoding"
   ]
  },
  {
   "cell_type": "code",
   "execution_count": 27,
   "metadata": {},
   "outputs": [
    {
     "data": {
      "text/plain": [
       "title\n",
       "Capt      [0]\n",
       "Don       [1]\n",
       "Dr        [2]\n",
       "Major     [3]\n",
       "Master    [4]\n",
       "Miss      [5]\n",
       "Mr        [6]\n",
       "Ms        [7]\n",
       "Other     [8]\n",
       "Name: title_label, dtype: object"
      ]
     },
     "execution_count": 27,
     "metadata": {},
     "output_type": "execute_result"
    }
   ],
   "source": [
    "from sklearn import preprocessing\n",
    "\n",
    "label_encoder = preprocessing.LabelEncoder()\n",
    "data['title_label'] = label_encoder.fit_transform(data['title'])\n",
    "\n",
    "data.groupby('title')['title_label'].unique()"
   ]
  },
  {
   "cell_type": "code",
   "execution_count": 28,
   "metadata": {},
   "outputs": [],
   "source": [
    "# drop original title\n",
    "data = data.drop('title', axis=1)"
   ]
  },
  {
   "cell_type": "markdown",
   "metadata": {},
   "source": [
    "# Feature Selection\n",
    "\n",
    "I'll start by selecting empirically\n",
    "* Some features I really don't see how they would help like `Cabin`, `PassengerId`, `Name` and `Ticket`"
   ]
  },
  {
   "cell_type": "markdown",
   "metadata": {},
   "source": [
    "### Dropping some features"
   ]
  },
  {
   "cell_type": "code",
   "execution_count": 29,
   "metadata": {},
   "outputs": [
    {
     "data": {
      "text/html": [
       "<div>\n",
       "<style scoped>\n",
       "    .dataframe tbody tr th:only-of-type {\n",
       "        vertical-align: middle;\n",
       "    }\n",
       "\n",
       "    .dataframe tbody tr th {\n",
       "        vertical-align: top;\n",
       "    }\n",
       "\n",
       "    .dataframe thead th {\n",
       "        text-align: right;\n",
       "    }\n",
       "</style>\n",
       "<table border=\"1\" class=\"dataframe\">\n",
       "  <thead>\n",
       "    <tr style=\"text-align: right;\">\n",
       "      <th></th>\n",
       "      <th>Survived</th>\n",
       "      <th>Pclass</th>\n",
       "      <th>Age</th>\n",
       "      <th>SibSp</th>\n",
       "      <th>Parch</th>\n",
       "      <th>Fare</th>\n",
       "      <th>age_group</th>\n",
       "      <th>fam_size</th>\n",
       "      <th>embarked_C</th>\n",
       "      <th>embarked_Q</th>\n",
       "      <th>embarked_S</th>\n",
       "      <th>sex_bi</th>\n",
       "      <th>title_label</th>\n",
       "    </tr>\n",
       "  </thead>\n",
       "  <tbody>\n",
       "    <tr>\n",
       "      <th>0</th>\n",
       "      <td>0</td>\n",
       "      <td>3</td>\n",
       "      <td>22.0</td>\n",
       "      <td>1</td>\n",
       "      <td>0</td>\n",
       "      <td>7.2500</td>\n",
       "      <td>2</td>\n",
       "      <td>1</td>\n",
       "      <td>0</td>\n",
       "      <td>0</td>\n",
       "      <td>1</td>\n",
       "      <td>1</td>\n",
       "      <td>6</td>\n",
       "    </tr>\n",
       "    <tr>\n",
       "      <th>1</th>\n",
       "      <td>1</td>\n",
       "      <td>1</td>\n",
       "      <td>38.0</td>\n",
       "      <td>1</td>\n",
       "      <td>0</td>\n",
       "      <td>71.2833</td>\n",
       "      <td>4</td>\n",
       "      <td>1</td>\n",
       "      <td>1</td>\n",
       "      <td>0</td>\n",
       "      <td>0</td>\n",
       "      <td>0</td>\n",
       "      <td>6</td>\n",
       "    </tr>\n",
       "    <tr>\n",
       "      <th>2</th>\n",
       "      <td>1</td>\n",
       "      <td>3</td>\n",
       "      <td>26.0</td>\n",
       "      <td>0</td>\n",
       "      <td>0</td>\n",
       "      <td>7.9250</td>\n",
       "      <td>3</td>\n",
       "      <td>0</td>\n",
       "      <td>0</td>\n",
       "      <td>0</td>\n",
       "      <td>1</td>\n",
       "      <td>0</td>\n",
       "      <td>5</td>\n",
       "    </tr>\n",
       "    <tr>\n",
       "      <th>3</th>\n",
       "      <td>1</td>\n",
       "      <td>1</td>\n",
       "      <td>35.0</td>\n",
       "      <td>1</td>\n",
       "      <td>0</td>\n",
       "      <td>53.1000</td>\n",
       "      <td>4</td>\n",
       "      <td>1</td>\n",
       "      <td>0</td>\n",
       "      <td>0</td>\n",
       "      <td>1</td>\n",
       "      <td>0</td>\n",
       "      <td>6</td>\n",
       "    </tr>\n",
       "    <tr>\n",
       "      <th>4</th>\n",
       "      <td>0</td>\n",
       "      <td>3</td>\n",
       "      <td>35.0</td>\n",
       "      <td>0</td>\n",
       "      <td>0</td>\n",
       "      <td>8.0500</td>\n",
       "      <td>4</td>\n",
       "      <td>0</td>\n",
       "      <td>0</td>\n",
       "      <td>0</td>\n",
       "      <td>1</td>\n",
       "      <td>1</td>\n",
       "      <td>6</td>\n",
       "    </tr>\n",
       "  </tbody>\n",
       "</table>\n",
       "</div>"
      ],
      "text/plain": [
       "   Survived  Pclass   Age  SibSp  Parch     Fare  age_group  fam_size  \\\n",
       "0         0       3  22.0      1      0   7.2500          2         1   \n",
       "1         1       1  38.0      1      0  71.2833          4         1   \n",
       "2         1       3  26.0      0      0   7.9250          3         0   \n",
       "3         1       1  35.0      1      0  53.1000          4         1   \n",
       "4         0       3  35.0      0      0   8.0500          4         0   \n",
       "\n",
       "   embarked_C  embarked_Q  embarked_S  sex_bi  title_label  \n",
       "0           0           0           1       1            6  \n",
       "1           1           0           0       0            6  \n",
       "2           0           0           1       0            5  \n",
       "3           0           0           1       0            6  \n",
       "4           0           0           1       1            6  "
      ]
     },
     "execution_count": 29,
     "metadata": {},
     "output_type": "execute_result"
    }
   ],
   "source": [
    "data = data.drop(['Cabin', 'Name', 'Ticket', 'PassengerId'], axis=1)\n",
    "data.head()"
   ]
  },
  {
   "cell_type": "markdown",
   "metadata": {},
   "source": [
    "### Correlations"
   ]
  },
  {
   "cell_type": "code",
   "execution_count": 30,
   "metadata": {},
   "outputs": [
    {
     "data": {
      "text/html": [
       "<div>\n",
       "<style scoped>\n",
       "    .dataframe tbody tr th:only-of-type {\n",
       "        vertical-align: middle;\n",
       "    }\n",
       "\n",
       "    .dataframe tbody tr th {\n",
       "        vertical-align: top;\n",
       "    }\n",
       "\n",
       "    .dataframe thead th {\n",
       "        text-align: right;\n",
       "    }\n",
       "</style>\n",
       "<table border=\"1\" class=\"dataframe\">\n",
       "  <thead>\n",
       "    <tr style=\"text-align: right;\">\n",
       "      <th></th>\n",
       "      <th>Survived</th>\n",
       "      <th>Pclass</th>\n",
       "      <th>Age</th>\n",
       "      <th>SibSp</th>\n",
       "      <th>Parch</th>\n",
       "      <th>Fare</th>\n",
       "      <th>age_group</th>\n",
       "      <th>fam_size</th>\n",
       "      <th>embarked_C</th>\n",
       "      <th>embarked_Q</th>\n",
       "      <th>embarked_S</th>\n",
       "      <th>sex_bi</th>\n",
       "      <th>title_label</th>\n",
       "    </tr>\n",
       "  </thead>\n",
       "  <tbody>\n",
       "    <tr>\n",
       "      <th>Survived</th>\n",
       "      <td>1.000000</td>\n",
       "      <td>-0.338481</td>\n",
       "      <td>-0.021478</td>\n",
       "      <td>-0.035322</td>\n",
       "      <td>0.081629</td>\n",
       "      <td>0.257307</td>\n",
       "      <td>-0.022696</td>\n",
       "      <td>0.016639</td>\n",
       "      <td>0.168240</td>\n",
       "      <td>0.003650</td>\n",
       "      <td>-0.149683</td>\n",
       "      <td>-0.543351</td>\n",
       "      <td>-0.193407</td>\n",
       "    </tr>\n",
       "    <tr>\n",
       "      <th>Pclass</th>\n",
       "      <td>-0.338481</td>\n",
       "      <td>1.000000</td>\n",
       "      <td>-0.478147</td>\n",
       "      <td>0.083081</td>\n",
       "      <td>0.018443</td>\n",
       "      <td>-0.549500</td>\n",
       "      <td>-0.475189</td>\n",
       "      <td>0.065997</td>\n",
       "      <td>-0.243292</td>\n",
       "      <td>0.221009</td>\n",
       "      <td>0.074053</td>\n",
       "      <td>0.131900</td>\n",
       "      <td>0.062526</td>\n",
       "    </tr>\n",
       "    <tr>\n",
       "      <th>Age</th>\n",
       "      <td>-0.021478</td>\n",
       "      <td>-0.478147</td>\n",
       "      <td>1.000000</td>\n",
       "      <td>-0.321186</td>\n",
       "      <td>-0.201290</td>\n",
       "      <td>0.121118</td>\n",
       "      <td>0.984818</td>\n",
       "      <td>-0.320081</td>\n",
       "      <td>0.056885</td>\n",
       "      <td>-0.120416</td>\n",
       "      <td>0.025944</td>\n",
       "      <td>0.098307</td>\n",
       "      <td>0.176682</td>\n",
       "    </tr>\n",
       "    <tr>\n",
       "      <th>SibSp</th>\n",
       "      <td>-0.035322</td>\n",
       "      <td>0.083081</td>\n",
       "      <td>-0.321186</td>\n",
       "      <td>1.000000</td>\n",
       "      <td>0.414838</td>\n",
       "      <td>0.159651</td>\n",
       "      <td>-0.346890</td>\n",
       "      <td>0.890712</td>\n",
       "      <td>-0.059528</td>\n",
       "      <td>-0.026354</td>\n",
       "      <td>0.068734</td>\n",
       "      <td>-0.114631</td>\n",
       "      <td>-0.189470</td>\n",
       "    </tr>\n",
       "    <tr>\n",
       "      <th>Parch</th>\n",
       "      <td>0.081629</td>\n",
       "      <td>0.018443</td>\n",
       "      <td>-0.201290</td>\n",
       "      <td>0.414838</td>\n",
       "      <td>1.000000</td>\n",
       "      <td>0.216225</td>\n",
       "      <td>-0.222394</td>\n",
       "      <td>0.783111</td>\n",
       "      <td>-0.011069</td>\n",
       "      <td>-0.081228</td>\n",
       "      <td>0.060814</td>\n",
       "      <td>-0.245489</td>\n",
       "      <td>-0.145410</td>\n",
       "    </tr>\n",
       "    <tr>\n",
       "      <th>Fare</th>\n",
       "      <td>0.257307</td>\n",
       "      <td>-0.549500</td>\n",
       "      <td>0.121118</td>\n",
       "      <td>0.159651</td>\n",
       "      <td>0.216225</td>\n",
       "      <td>1.000000</td>\n",
       "      <td>0.123023</td>\n",
       "      <td>0.217138</td>\n",
       "      <td>0.269335</td>\n",
       "      <td>-0.117216</td>\n",
       "      <td>-0.162184</td>\n",
       "      <td>-0.182333</td>\n",
       "      <td>-0.129980</td>\n",
       "    </tr>\n",
       "    <tr>\n",
       "      <th>age_group</th>\n",
       "      <td>-0.022696</td>\n",
       "      <td>-0.475189</td>\n",
       "      <td>0.984818</td>\n",
       "      <td>-0.346890</td>\n",
       "      <td>-0.222394</td>\n",
       "      <td>0.123023</td>\n",
       "      <td>1.000000</td>\n",
       "      <td>-0.348192</td>\n",
       "      <td>0.053133</td>\n",
       "      <td>-0.128136</td>\n",
       "      <td>0.034090</td>\n",
       "      <td>0.107248</td>\n",
       "      <td>0.196661</td>\n",
       "    </tr>\n",
       "    <tr>\n",
       "      <th>fam_size</th>\n",
       "      <td>0.016639</td>\n",
       "      <td>0.065997</td>\n",
       "      <td>-0.320081</td>\n",
       "      <td>0.890712</td>\n",
       "      <td>0.783111</td>\n",
       "      <td>0.217138</td>\n",
       "      <td>-0.348192</td>\n",
       "      <td>1.000000</td>\n",
       "      <td>-0.046215</td>\n",
       "      <td>-0.058592</td>\n",
       "      <td>0.077359</td>\n",
       "      <td>-0.200988</td>\n",
       "      <td>-0.202141</td>\n",
       "    </tr>\n",
       "    <tr>\n",
       "      <th>embarked_C</th>\n",
       "      <td>0.168240</td>\n",
       "      <td>-0.243292</td>\n",
       "      <td>0.056885</td>\n",
       "      <td>-0.059528</td>\n",
       "      <td>-0.011069</td>\n",
       "      <td>0.269335</td>\n",
       "      <td>0.053133</td>\n",
       "      <td>-0.046215</td>\n",
       "      <td>1.000000</td>\n",
       "      <td>-0.148258</td>\n",
       "      <td>-0.782742</td>\n",
       "      <td>-0.082853</td>\n",
       "      <td>-0.047489</td>\n",
       "    </tr>\n",
       "    <tr>\n",
       "      <th>embarked_Q</th>\n",
       "      <td>0.003650</td>\n",
       "      <td>0.221009</td>\n",
       "      <td>-0.120416</td>\n",
       "      <td>-0.026354</td>\n",
       "      <td>-0.081228</td>\n",
       "      <td>-0.117216</td>\n",
       "      <td>-0.128136</td>\n",
       "      <td>-0.058592</td>\n",
       "      <td>-0.148258</td>\n",
       "      <td>1.000000</td>\n",
       "      <td>-0.499421</td>\n",
       "      <td>-0.074115</td>\n",
       "      <td>-0.066568</td>\n",
       "    </tr>\n",
       "    <tr>\n",
       "      <th>embarked_S</th>\n",
       "      <td>-0.149683</td>\n",
       "      <td>0.074053</td>\n",
       "      <td>0.025944</td>\n",
       "      <td>0.068734</td>\n",
       "      <td>0.060814</td>\n",
       "      <td>-0.162184</td>\n",
       "      <td>0.034090</td>\n",
       "      <td>0.077359</td>\n",
       "      <td>-0.782742</td>\n",
       "      <td>-0.499421</td>\n",
       "      <td>1.000000</td>\n",
       "      <td>0.119224</td>\n",
       "      <td>0.083493</td>\n",
       "    </tr>\n",
       "    <tr>\n",
       "      <th>sex_bi</th>\n",
       "      <td>-0.543351</td>\n",
       "      <td>0.131900</td>\n",
       "      <td>0.098307</td>\n",
       "      <td>-0.114631</td>\n",
       "      <td>-0.245489</td>\n",
       "      <td>-0.182333</td>\n",
       "      <td>0.107248</td>\n",
       "      <td>-0.200988</td>\n",
       "      <td>-0.082853</td>\n",
       "      <td>-0.074115</td>\n",
       "      <td>0.119224</td>\n",
       "      <td>1.000000</td>\n",
       "      <td>0.187705</td>\n",
       "    </tr>\n",
       "    <tr>\n",
       "      <th>title_label</th>\n",
       "      <td>-0.193407</td>\n",
       "      <td>0.062526</td>\n",
       "      <td>0.176682</td>\n",
       "      <td>-0.189470</td>\n",
       "      <td>-0.145410</td>\n",
       "      <td>-0.129980</td>\n",
       "      <td>0.196661</td>\n",
       "      <td>-0.202141</td>\n",
       "      <td>-0.047489</td>\n",
       "      <td>-0.066568</td>\n",
       "      <td>0.083493</td>\n",
       "      <td>0.187705</td>\n",
       "      <td>1.000000</td>\n",
       "    </tr>\n",
       "  </tbody>\n",
       "</table>\n",
       "</div>"
      ],
      "text/plain": [
       "             Survived    Pclass       Age     SibSp     Parch      Fare  \\\n",
       "Survived     1.000000 -0.338481 -0.021478 -0.035322  0.081629  0.257307   \n",
       "Pclass      -0.338481  1.000000 -0.478147  0.083081  0.018443 -0.549500   \n",
       "Age         -0.021478 -0.478147  1.000000 -0.321186 -0.201290  0.121118   \n",
       "SibSp       -0.035322  0.083081 -0.321186  1.000000  0.414838  0.159651   \n",
       "Parch        0.081629  0.018443 -0.201290  0.414838  1.000000  0.216225   \n",
       "Fare         0.257307 -0.549500  0.121118  0.159651  0.216225  1.000000   \n",
       "age_group   -0.022696 -0.475189  0.984818 -0.346890 -0.222394  0.123023   \n",
       "fam_size     0.016639  0.065997 -0.320081  0.890712  0.783111  0.217138   \n",
       "embarked_C   0.168240 -0.243292  0.056885 -0.059528 -0.011069  0.269335   \n",
       "embarked_Q   0.003650  0.221009 -0.120416 -0.026354 -0.081228 -0.117216   \n",
       "embarked_S  -0.149683  0.074053  0.025944  0.068734  0.060814 -0.162184   \n",
       "sex_bi      -0.543351  0.131900  0.098307 -0.114631 -0.245489 -0.182333   \n",
       "title_label -0.193407  0.062526  0.176682 -0.189470 -0.145410 -0.129980   \n",
       "\n",
       "             age_group  fam_size  embarked_C  embarked_Q  embarked_S  \\\n",
       "Survived     -0.022696  0.016639    0.168240    0.003650   -0.149683   \n",
       "Pclass       -0.475189  0.065997   -0.243292    0.221009    0.074053   \n",
       "Age           0.984818 -0.320081    0.056885   -0.120416    0.025944   \n",
       "SibSp        -0.346890  0.890712   -0.059528   -0.026354    0.068734   \n",
       "Parch        -0.222394  0.783111   -0.011069   -0.081228    0.060814   \n",
       "Fare          0.123023  0.217138    0.269335   -0.117216   -0.162184   \n",
       "age_group     1.000000 -0.348192    0.053133   -0.128136    0.034090   \n",
       "fam_size     -0.348192  1.000000   -0.046215   -0.058592    0.077359   \n",
       "embarked_C    0.053133 -0.046215    1.000000   -0.148258   -0.782742   \n",
       "embarked_Q   -0.128136 -0.058592   -0.148258    1.000000   -0.499421   \n",
       "embarked_S    0.034090  0.077359   -0.782742   -0.499421    1.000000   \n",
       "sex_bi        0.107248 -0.200988   -0.082853   -0.074115    0.119224   \n",
       "title_label   0.196661 -0.202141   -0.047489   -0.066568    0.083493   \n",
       "\n",
       "               sex_bi  title_label  \n",
       "Survived    -0.543351    -0.193407  \n",
       "Pclass       0.131900     0.062526  \n",
       "Age          0.098307     0.176682  \n",
       "SibSp       -0.114631    -0.189470  \n",
       "Parch       -0.245489    -0.145410  \n",
       "Fare        -0.182333    -0.129980  \n",
       "age_group    0.107248     0.196661  \n",
       "fam_size    -0.200988    -0.202141  \n",
       "embarked_C  -0.082853    -0.047489  \n",
       "embarked_Q  -0.074115    -0.066568  \n",
       "embarked_S   0.119224     0.083493  \n",
       "sex_bi       1.000000     0.187705  \n",
       "title_label  0.187705     1.000000  "
      ]
     },
     "execution_count": 30,
     "metadata": {},
     "output_type": "execute_result"
    }
   ],
   "source": [
    "data.corr()"
   ]
  },
  {
   "cell_type": "markdown",
   "metadata": {},
   "source": [
    "We have some obvious strong correlations between `SibSp`, `Parch` and `fam_size`, since we created that feature with them.\n",
    "\n",
    "Also, between `Age` and `age_group`.\n",
    "\n",
    "It's interesting to see that the only not obviuos strong correlation between the labels are between `embarked_S` and `embarked_C`.\n",
    "\n",
    "\n",
    "The strongest correlation between the target and the features is with `sex_bi`, then `Pclass`."
   ]
  },
  {
   "cell_type": "markdown",
   "metadata": {},
   "source": [
    "## First attempts: Baseline models\n",
    "\n",
    "I think we can try and build some models using these features and check the results"
   ]
  },
  {
   "cell_type": "code",
   "execution_count": 31,
   "metadata": {},
   "outputs": [],
   "source": [
    "from sklearn.ensemble import RandomForestClassifier\n",
    "from sklearn.linear_model import LogisticRegression\n",
    "from sklearn.naive_bayes import GaussianNB\n",
    "from sklearn.svm import SVC\n",
    "\n",
    "from sklearn.model_selection import cross_val_score, cross_validate\n",
    "from sklearn.metrics import roc_auc_score"
   ]
  },
  {
   "cell_type": "markdown",
   "metadata": {},
   "source": [
    "I'll use **K-fold cross validation** to make our results more robust and take advantage of the STD, which we can use it as a \"confidence\" score for our precision estimation.\n",
    "\n",
    "The only reason I use it is because we have a relatively small dataset and we can afford to do it, otherwise I would probably use regular cross validation.\n",
    "\n",
    "Also, I am using a recall scoring, because the dataset is imbalanced (about 40/60), so accuracy is not very useful.\n",
    "\n",
    "**Recall = TP/(TP+FN)**, which tells us the % of correctly classified positive values.\n",
    "\n",
    "\n",
    "Another option could be Precision or F1-score (precision and recall combined).\n",
    "\n",
    "The important point here is to avoid being affected by the imbalanced problem."
   ]
  },
  {
   "cell_type": "code",
   "execution_count": 32,
   "metadata": {},
   "outputs": [],
   "source": [
    "X_train = data.drop(\"Survived\", axis=1)\n",
    "Y_train = data[\"Survived\"]\n",
    "\n",
    "results = {'model':[], 'recall':[]}"
   ]
  },
  {
   "cell_type": "markdown",
   "metadata": {},
   "source": [
    "### Random forest"
   ]
  },
  {
   "cell_type": "markdown",
   "metadata": {},
   "source": [
    "As an example of the last point I compare the results from accuracy and recall, we can see there's a difference in the scores. Accuracy is a little too high due to imbalance."
   ]
  },
  {
   "cell_type": "code",
   "execution_count": 33,
   "metadata": {},
   "outputs": [
    {
     "name": "stdout",
     "output_type": "stream",
     "text": [
      "Train acc: 0.9850353781762946\n",
      "Test acc: 0.8149026784700941\n",
      "Train recall: 0.9717342104149921\n",
      "Test recall: 0.7429411764705882\n"
     ]
    }
   ],
   "source": [
    "rf = RandomForestClassifier(n_estimators=100, bootstrap = True)\n",
    "scores = cross_validate(rf, X_train, Y_train, cv=10, scoring=['recall', 'accuracy'], return_train_score=True)\n",
    "\n",
    "print(\"Train acc:\", scores['train_accuracy'].mean())\n",
    "print(\"Test acc:\", scores['test_accuracy'].mean())\n",
    "\n",
    "print(\"Train recall:\", scores['train_recall'].mean())\n",
    "print(\"Test recall:\", scores['test_recall'].mean())"
   ]
  },
  {
   "cell_type": "markdown",
   "metadata": {},
   "source": [
    "The rest of the tests will be using the recall score."
   ]
  },
  {
   "cell_type": "code",
   "execution_count": 34,
   "metadata": {},
   "outputs": [
    {
     "name": "stdout",
     "output_type": "stream",
     "text": [
      "Scores: [0.71428571 0.68571429 0.61764706 0.88235294 0.82352941 0.76470588\n",
      " 0.73529412 0.58823529 0.79411765 0.79411765]\n",
      "Mean: 0.74\n",
      "Standard Deviation: 0.08680001112941714\n"
     ]
    }
   ],
   "source": [
    "rf = RandomForestClassifier(n_estimators=100, bootstrap = True, n_jobs=-1)\n",
    "scores = cross_val_score(rf, X_train, Y_train, cv=10, scoring='recall')\n",
    "\n",
    "results['model'].append('randomforest')\n",
    "results['recall'].append(scores.mean())\n",
    "\n",
    "print(\"Scores:\", scores)\n",
    "print(\"Mean:\", scores.mean())\n",
    "print(\"Standard Deviation:\", scores.std())"
   ]
  },
  {
   "cell_type": "markdown",
   "metadata": {},
   "source": [
    "### Logistic Regression"
   ]
  },
  {
   "cell_type": "code",
   "execution_count": 35,
   "metadata": {},
   "outputs": [
    {
     "name": "stdout",
     "output_type": "stream",
     "text": [
      "Scores: [0.65714286 0.71428571 0.58823529 0.82352941 0.76470588 0.64705882\n",
      " 0.61764706 0.64705882 0.70588235 0.67647059]\n",
      "Mean: 0.6842016806722689\n",
      "Standard Deviation: 0.06667716415716068\n"
     ]
    }
   ],
   "source": [
    "logreg = LogisticRegression(solver='liblinear')\n",
    "scores = cross_val_score(logreg, X_train, Y_train, cv=10, scoring = \"recall\")\n",
    "\n",
    "results['model'].append('logitregression')\n",
    "results['recall'].append(scores.mean())\n",
    "\n",
    "print(\"Scores:\", scores)\n",
    "print(\"Mean:\", scores.mean())\n",
    "print(\"Standard Deviation:\", scores.std())"
   ]
  },
  {
   "cell_type": "markdown",
   "metadata": {},
   "source": [
    "### Naive Bayes"
   ]
  },
  {
   "cell_type": "code",
   "execution_count": 36,
   "metadata": {},
   "outputs": [
    {
     "name": "stdout",
     "output_type": "stream",
     "text": [
      "Scores: [0.68571429 0.71428571 0.67647059 0.82352941 0.79411765 0.73529412\n",
      " 0.73529412 0.76470588 0.64705882 0.79411765]\n",
      "Mean: 0.7370588235294118\n",
      "Standard Deviation: 0.054483924119232294\n"
     ]
    }
   ],
   "source": [
    "gaussian = GaussianNB()\n",
    "\n",
    "scores = cross_val_score(gaussian, X_train, Y_train, cv=10, scoring = \"recall\")\n",
    "\n",
    "results['model'].append('naivebayes')\n",
    "results['recall'].append(scores.mean())\n",
    "\n",
    "\n",
    "print(\"Scores:\", scores)\n",
    "print(\"Mean:\", scores.mean())\n",
    "print(\"Standard Deviation:\", scores.std())"
   ]
  },
  {
   "cell_type": "markdown",
   "metadata": {},
   "source": [
    "### SVM"
   ]
  },
  {
   "cell_type": "code",
   "execution_count": 37,
   "metadata": {},
   "outputs": [
    {
     "name": "stdout",
     "output_type": "stream",
     "text": [
      "Scores: [0.62857143 0.6        0.5        0.61764706 0.70588235 0.52941176\n",
      " 0.64705882 0.64705882 0.61764706 0.67647059]\n",
      "Mean: 0.6169747899159664\n",
      "Standard Deviation: 0.05918472540211423\n"
     ]
    }
   ],
   "source": [
    "svm = SVC(kernel='rbf', degree=2, gamma='auto')\n",
    "\n",
    "scores = cross_val_score(svm, X_train, Y_train, cv=10, scoring = \"recall\")\n",
    "\n",
    "results['model'].append('svm')\n",
    "results['recall'].append(scores.mean())\n",
    "\n",
    "print(\"Scores:\", scores)\n",
    "print(\"Mean:\", scores.mean())\n",
    "print(\"Standard Deviation:\", scores.std())"
   ]
  },
  {
   "cell_type": "code",
   "execution_count": 38,
   "metadata": {
    "scrolled": true
   },
   "outputs": [
    {
     "data": {
      "text/html": [
       "<div>\n",
       "<style scoped>\n",
       "    .dataframe tbody tr th:only-of-type {\n",
       "        vertical-align: middle;\n",
       "    }\n",
       "\n",
       "    .dataframe tbody tr th {\n",
       "        vertical-align: top;\n",
       "    }\n",
       "\n",
       "    .dataframe thead th {\n",
       "        text-align: right;\n",
       "    }\n",
       "</style>\n",
       "<table border=\"1\" class=\"dataframe\">\n",
       "  <thead>\n",
       "    <tr style=\"text-align: right;\">\n",
       "      <th></th>\n",
       "      <th>model</th>\n",
       "      <th>recall</th>\n",
       "    </tr>\n",
       "  </thead>\n",
       "  <tbody>\n",
       "    <tr>\n",
       "      <th>0</th>\n",
       "      <td>randomforest</td>\n",
       "      <td>0.740000</td>\n",
       "    </tr>\n",
       "    <tr>\n",
       "      <th>2</th>\n",
       "      <td>naivebayes</td>\n",
       "      <td>0.737059</td>\n",
       "    </tr>\n",
       "    <tr>\n",
       "      <th>1</th>\n",
       "      <td>logitregression</td>\n",
       "      <td>0.684202</td>\n",
       "    </tr>\n",
       "    <tr>\n",
       "      <th>3</th>\n",
       "      <td>svm</td>\n",
       "      <td>0.616975</td>\n",
       "    </tr>\n",
       "  </tbody>\n",
       "</table>\n",
       "</div>"
      ],
      "text/plain": [
       "             model    recall\n",
       "0     randomforest  0.740000\n",
       "2       naivebayes  0.737059\n",
       "1  logitregression  0.684202\n",
       "3              svm  0.616975"
      ]
     },
     "execution_count": 38,
     "metadata": {},
     "output_type": "execute_result"
    }
   ],
   "source": [
    "res = pd.DataFrame(results)\n",
    "res = res.sort_values(by='recall', ascending=False)\n",
    "res"
   ]
  },
  {
   "cell_type": "markdown",
   "metadata": {},
   "source": [
    "## Bias-Variance Balance\n",
    "\n",
    "Now I want to know where I am in the bias-variance balance, even though we have good models if we want to improve accuracy we need to know first where we are so we know where we are going (how to improve).\n",
    "\n",
    "For classification we can use a confusion matrix. I'll do it for the first 2 best models"
   ]
  },
  {
   "cell_type": "code",
   "execution_count": 39,
   "metadata": {},
   "outputs": [],
   "source": [
    "# from sklearn.model_selection import cross_validate\n",
    "from sklearn.metrics import confusion_matrix\n",
    "from sklearn.model_selection import train_test_split"
   ]
  },
  {
   "cell_type": "markdown",
   "metadata": {},
   "source": [
    "### Random forest"
   ]
  },
  {
   "cell_type": "markdown",
   "metadata": {},
   "source": [
    "**train vs test Error**"
   ]
  },
  {
   "cell_type": "code",
   "execution_count": 40,
   "metadata": {},
   "outputs": [
    {
     "name": "stdout",
     "output_type": "stream",
     "text": [
      "Train score: 0.9723825034899953\n",
      "Test score: 0.7341176470588234\n"
     ]
    }
   ],
   "source": [
    "rf = RandomForestClassifier(n_estimators=100, bootstrap = True)\n",
    "scores = cross_validate(rf, X_train, Y_train, cv=10, scoring='recall', return_train_score=True)\n",
    "\n",
    "print(\"Train score:\", scores['train_score'].mean())\n",
    "print(\"Test score:\", scores['test_score'].mean())"
   ]
  },
  {
   "cell_type": "markdown",
   "metadata": {},
   "source": [
    "**Confusion matrix**"
   ]
  },
  {
   "cell_type": "code",
   "execution_count": 41,
   "metadata": {},
   "outputs": [],
   "source": [
    "X = data.drop(\"Survived\", axis=1)\n",
    "Y = data[\"Survived\"]\n",
    "\n",
    "train, test, target_train, target_test = train_test_split(X, Y, test_size=0.2, shuffle=True ,random_state=6)"
   ]
  },
  {
   "cell_type": "code",
   "execution_count": 42,
   "metadata": {},
   "outputs": [],
   "source": [
    "rf = RandomForestClassifier(n_estimators=100, bootstrap = True)\n",
    "y_pred = rf.fit(train, target_train).predict(test)"
   ]
  },
  {
   "cell_type": "code",
   "execution_count": 43,
   "metadata": {},
   "outputs": [
    {
     "data": {
      "text/html": [
       "<div>\n",
       "<style scoped>\n",
       "    .dataframe tbody tr th:only-of-type {\n",
       "        vertical-align: middle;\n",
       "    }\n",
       "\n",
       "    .dataframe tbody tr th {\n",
       "        vertical-align: top;\n",
       "    }\n",
       "\n",
       "    .dataframe thead th {\n",
       "        text-align: right;\n",
       "    }\n",
       "</style>\n",
       "<table border=\"1\" class=\"dataframe\">\n",
       "  <thead>\n",
       "    <tr style=\"text-align: right;\">\n",
       "      <th></th>\n",
       "      <th>pred_0</th>\n",
       "      <th>pred_1</th>\n",
       "    </tr>\n",
       "  </thead>\n",
       "  <tbody>\n",
       "    <tr>\n",
       "      <th>true_0</th>\n",
       "      <td>96</td>\n",
       "      <td>17</td>\n",
       "    </tr>\n",
       "    <tr>\n",
       "      <th>true_1</th>\n",
       "      <td>17</td>\n",
       "      <td>49</td>\n",
       "    </tr>\n",
       "  </tbody>\n",
       "</table>\n",
       "</div>"
      ],
      "text/plain": [
       "        pred_0  pred_1\n",
       "true_0      96      17\n",
       "true_1      17      49"
      ]
     },
     "execution_count": 43,
     "metadata": {},
     "output_type": "execute_result"
    }
   ],
   "source": [
    "arr = confusion_matrix(target_test, y_pred)\n",
    "df = pd.DataFrame(arr, index = ['true_0', 'true_1'],\n",
    "                  columns = ['pred_0', 'pred_1'])\n",
    "df"
   ]
  },
  {
   "cell_type": "markdown",
   "metadata": {},
   "source": [
    "**Based on Train/Test Error**\n",
    "\n",
    "For RF we can see we have some **overfitting**, that means we might have a variance problem.\n",
    "\n",
    "To diminish the error we could regularized our model or select fewer features and see what happens.\n",
    "\n",
    "* For the first one we could try searching for best hyperparameters (regulirizers).\n",
    "* For the second we could find the best features and train with them.\n",
    "* Another option could be to increase the numbers of trees used (n_estimators>100).\n",
    "\n",
    "We can start by dropping `Age` and `fam_size`, since are the ones with the least correlation with the target."
   ]
  },
  {
   "cell_type": "markdown",
   "metadata": {},
   "source": [
    "### Naive Bayes"
   ]
  },
  {
   "cell_type": "markdown",
   "metadata": {},
   "source": [
    "**test vs train Error**"
   ]
  },
  {
   "cell_type": "code",
   "execution_count": 44,
   "metadata": {},
   "outputs": [
    {
     "name": "stdout",
     "output_type": "stream",
     "text": [
      "Train acc: 0.7807702294071028\n",
      "Test acc: 0.7734666893655657\n",
      "Train recall: 0.739435889843056\n",
      "Test recall: 0.7370588235294118\n"
     ]
    }
   ],
   "source": [
    "gaussian = GaussianNB()\n",
    "scores = cross_validate(gaussian, X_train, Y_train, cv=10, scoring=['recall', 'accuracy'], return_train_score=True)\n",
    "\n",
    "print(\"Train acc:\", scores['train_accuracy'].mean())\n",
    "print(\"Test acc:\", scores['test_accuracy'].mean())\n",
    "\n",
    "print(\"Train recall:\", scores['train_recall'].mean())\n",
    "print(\"Test recall:\", scores['test_recall'].mean())"
   ]
  },
  {
   "cell_type": "markdown",
   "metadata": {},
   "source": [
    "**confusion matrix**"
   ]
  },
  {
   "cell_type": "code",
   "execution_count": 45,
   "metadata": {},
   "outputs": [],
   "source": [
    "y_pred = gaussian.fit(train, target_train).predict(test)"
   ]
  },
  {
   "cell_type": "code",
   "execution_count": 46,
   "metadata": {},
   "outputs": [
    {
     "data": {
      "text/html": [
       "<div>\n",
       "<style scoped>\n",
       "    .dataframe tbody tr th:only-of-type {\n",
       "        vertical-align: middle;\n",
       "    }\n",
       "\n",
       "    .dataframe tbody tr th {\n",
       "        vertical-align: top;\n",
       "    }\n",
       "\n",
       "    .dataframe thead th {\n",
       "        text-align: right;\n",
       "    }\n",
       "</style>\n",
       "<table border=\"1\" class=\"dataframe\">\n",
       "  <thead>\n",
       "    <tr style=\"text-align: right;\">\n",
       "      <th></th>\n",
       "      <th>pred_0</th>\n",
       "      <th>pred_1</th>\n",
       "    </tr>\n",
       "  </thead>\n",
       "  <tbody>\n",
       "    <tr>\n",
       "      <th>true_0</th>\n",
       "      <td>94</td>\n",
       "      <td>19</td>\n",
       "    </tr>\n",
       "    <tr>\n",
       "      <th>true_1</th>\n",
       "      <td>16</td>\n",
       "      <td>50</td>\n",
       "    </tr>\n",
       "  </tbody>\n",
       "</table>\n",
       "</div>"
      ],
      "text/plain": [
       "        pred_0  pred_1\n",
       "true_0      94      19\n",
       "true_1      16      50"
      ]
     },
     "execution_count": 46,
     "metadata": {},
     "output_type": "execute_result"
    }
   ],
   "source": [
    "arr = confusion_matrix(target_test, y_pred)\n",
    "df = pd.DataFrame(arr, index = ['true_0', 'true_1'],\n",
    "                  columns = ['pred_0', 'pred_1'])\n",
    "df"
   ]
  },
  {
   "cell_type": "markdown",
   "metadata": {},
   "source": [
    "**Based on Train/Test Error**\n",
    "\n",
    "On the case of Naive Bayes since the error difference between the scores is not much we can say we don't have a lot of variance, it seems to be more of a **bias** problem or some **noise**.\n",
    "\n",
    "This indicates that we may need to work more on our features to make them more significant or add new ones."
   ]
  },
  {
   "cell_type": "markdown",
   "metadata": {},
   "source": [
    "## Dropping obvious features for RF\n",
    "\n",
    "I will try to improve the Random Forest model since I think the steps are more straight forward.\n",
    "\n",
    "But it seems NB is less affected by imbalance... and kind of makes sense to take into account the \"real\" prior probability of survival."
   ]
  },
  {
   "cell_type": "code",
   "execution_count": 47,
   "metadata": {},
   "outputs": [
    {
     "data": {
      "text/html": [
       "<div>\n",
       "<style scoped>\n",
       "    .dataframe tbody tr th:only-of-type {\n",
       "        vertical-align: middle;\n",
       "    }\n",
       "\n",
       "    .dataframe tbody tr th {\n",
       "        vertical-align: top;\n",
       "    }\n",
       "\n",
       "    .dataframe thead th {\n",
       "        text-align: right;\n",
       "    }\n",
       "</style>\n",
       "<table border=\"1\" class=\"dataframe\">\n",
       "  <thead>\n",
       "    <tr style=\"text-align: right;\">\n",
       "      <th></th>\n",
       "      <th>Survived</th>\n",
       "      <th>Pclass</th>\n",
       "      <th>SibSp</th>\n",
       "      <th>Parch</th>\n",
       "      <th>Fare</th>\n",
       "      <th>age_group</th>\n",
       "      <th>embarked_C</th>\n",
       "      <th>embarked_Q</th>\n",
       "      <th>embarked_S</th>\n",
       "      <th>sex_bi</th>\n",
       "      <th>title_label</th>\n",
       "    </tr>\n",
       "  </thead>\n",
       "  <tbody>\n",
       "    <tr>\n",
       "      <th>0</th>\n",
       "      <td>0</td>\n",
       "      <td>3</td>\n",
       "      <td>1</td>\n",
       "      <td>0</td>\n",
       "      <td>7.2500</td>\n",
       "      <td>2</td>\n",
       "      <td>0</td>\n",
       "      <td>0</td>\n",
       "      <td>1</td>\n",
       "      <td>1</td>\n",
       "      <td>6</td>\n",
       "    </tr>\n",
       "    <tr>\n",
       "      <th>1</th>\n",
       "      <td>1</td>\n",
       "      <td>1</td>\n",
       "      <td>1</td>\n",
       "      <td>0</td>\n",
       "      <td>71.2833</td>\n",
       "      <td>4</td>\n",
       "      <td>1</td>\n",
       "      <td>0</td>\n",
       "      <td>0</td>\n",
       "      <td>0</td>\n",
       "      <td>6</td>\n",
       "    </tr>\n",
       "    <tr>\n",
       "      <th>2</th>\n",
       "      <td>1</td>\n",
       "      <td>3</td>\n",
       "      <td>0</td>\n",
       "      <td>0</td>\n",
       "      <td>7.9250</td>\n",
       "      <td>3</td>\n",
       "      <td>0</td>\n",
       "      <td>0</td>\n",
       "      <td>1</td>\n",
       "      <td>0</td>\n",
       "      <td>5</td>\n",
       "    </tr>\n",
       "    <tr>\n",
       "      <th>3</th>\n",
       "      <td>1</td>\n",
       "      <td>1</td>\n",
       "      <td>1</td>\n",
       "      <td>0</td>\n",
       "      <td>53.1000</td>\n",
       "      <td>4</td>\n",
       "      <td>0</td>\n",
       "      <td>0</td>\n",
       "      <td>1</td>\n",
       "      <td>0</td>\n",
       "      <td>6</td>\n",
       "    </tr>\n",
       "    <tr>\n",
       "      <th>4</th>\n",
       "      <td>0</td>\n",
       "      <td>3</td>\n",
       "      <td>0</td>\n",
       "      <td>0</td>\n",
       "      <td>8.0500</td>\n",
       "      <td>4</td>\n",
       "      <td>0</td>\n",
       "      <td>0</td>\n",
       "      <td>1</td>\n",
       "      <td>1</td>\n",
       "      <td>6</td>\n",
       "    </tr>\n",
       "  </tbody>\n",
       "</table>\n",
       "</div>"
      ],
      "text/plain": [
       "   Survived  Pclass  SibSp  Parch     Fare  age_group  embarked_C  embarked_Q  \\\n",
       "0         0       3      1      0   7.2500          2           0           0   \n",
       "1         1       1      1      0  71.2833          4           1           0   \n",
       "2         1       3      0      0   7.9250          3           0           0   \n",
       "3         1       1      1      0  53.1000          4           0           0   \n",
       "4         0       3      0      0   8.0500          4           0           0   \n",
       "\n",
       "   embarked_S  sex_bi  title_label  \n",
       "0           1       1            6  \n",
       "1           0       0            6  \n",
       "2           1       0            5  \n",
       "3           1       0            6  \n",
       "4           1       1            6  "
      ]
     },
     "execution_count": 47,
     "metadata": {},
     "output_type": "execute_result"
    }
   ],
   "source": [
    "drop1 = data.drop(['Age', 'fam_size'], axis=1)\n",
    "drop1.head()"
   ]
  },
  {
   "cell_type": "code",
   "execution_count": 48,
   "metadata": {},
   "outputs": [],
   "source": [
    "X_train = drop1.drop(\"Survived\", axis=1)\n",
    "Y_train = drop1[\"Survived\"]"
   ]
  },
  {
   "cell_type": "code",
   "execution_count": 49,
   "metadata": {},
   "outputs": [
    {
     "name": "stdout",
     "output_type": "stream",
     "text": [
      "Train score: 0.9272209061297009\n",
      "Test score: 0.7193277310924369\n"
     ]
    }
   ],
   "source": [
    "rf = RandomForestClassifier(n_estimators=100, bootstrap = True)\n",
    "scores = cross_validate(rf, X_train, Y_train, cv=10, scoring='recall', return_train_score=True)\n",
    "\n",
    "print(\"Train score:\", scores['train_score'].mean())\n",
    "print(\"Test score:\", scores['test_score'].mean())"
   ]
  },
  {
   "cell_type": "code",
   "execution_count": 50,
   "metadata": {},
   "outputs": [
    {
     "data": {
      "text/html": [
       "<div>\n",
       "<style scoped>\n",
       "    .dataframe tbody tr th:only-of-type {\n",
       "        vertical-align: middle;\n",
       "    }\n",
       "\n",
       "    .dataframe tbody tr th {\n",
       "        vertical-align: top;\n",
       "    }\n",
       "\n",
       "    .dataframe thead th {\n",
       "        text-align: right;\n",
       "    }\n",
       "</style>\n",
       "<table border=\"1\" class=\"dataframe\">\n",
       "  <thead>\n",
       "    <tr style=\"text-align: right;\">\n",
       "      <th></th>\n",
       "      <th>Survived</th>\n",
       "      <th>Pclass</th>\n",
       "      <th>SibSp</th>\n",
       "      <th>Parch</th>\n",
       "      <th>Fare</th>\n",
       "      <th>age_group</th>\n",
       "      <th>embarked_C</th>\n",
       "      <th>embarked_Q</th>\n",
       "      <th>sex_bi</th>\n",
       "      <th>title_label</th>\n",
       "    </tr>\n",
       "  </thead>\n",
       "  <tbody>\n",
       "    <tr>\n",
       "      <th>0</th>\n",
       "      <td>0</td>\n",
       "      <td>3</td>\n",
       "      <td>1</td>\n",
       "      <td>0</td>\n",
       "      <td>7.2500</td>\n",
       "      <td>2</td>\n",
       "      <td>0</td>\n",
       "      <td>0</td>\n",
       "      <td>1</td>\n",
       "      <td>6</td>\n",
       "    </tr>\n",
       "    <tr>\n",
       "      <th>1</th>\n",
       "      <td>1</td>\n",
       "      <td>1</td>\n",
       "      <td>1</td>\n",
       "      <td>0</td>\n",
       "      <td>71.2833</td>\n",
       "      <td>4</td>\n",
       "      <td>1</td>\n",
       "      <td>0</td>\n",
       "      <td>0</td>\n",
       "      <td>6</td>\n",
       "    </tr>\n",
       "    <tr>\n",
       "      <th>2</th>\n",
       "      <td>1</td>\n",
       "      <td>3</td>\n",
       "      <td>0</td>\n",
       "      <td>0</td>\n",
       "      <td>7.9250</td>\n",
       "      <td>3</td>\n",
       "      <td>0</td>\n",
       "      <td>0</td>\n",
       "      <td>0</td>\n",
       "      <td>5</td>\n",
       "    </tr>\n",
       "    <tr>\n",
       "      <th>3</th>\n",
       "      <td>1</td>\n",
       "      <td>1</td>\n",
       "      <td>1</td>\n",
       "      <td>0</td>\n",
       "      <td>53.1000</td>\n",
       "      <td>4</td>\n",
       "      <td>0</td>\n",
       "      <td>0</td>\n",
       "      <td>0</td>\n",
       "      <td>6</td>\n",
       "    </tr>\n",
       "    <tr>\n",
       "      <th>4</th>\n",
       "      <td>0</td>\n",
       "      <td>3</td>\n",
       "      <td>0</td>\n",
       "      <td>0</td>\n",
       "      <td>8.0500</td>\n",
       "      <td>4</td>\n",
       "      <td>0</td>\n",
       "      <td>0</td>\n",
       "      <td>1</td>\n",
       "      <td>6</td>\n",
       "    </tr>\n",
       "  </tbody>\n",
       "</table>\n",
       "</div>"
      ],
      "text/plain": [
       "   Survived  Pclass  SibSp  Parch     Fare  age_group  embarked_C  embarked_Q  \\\n",
       "0         0       3      1      0   7.2500          2           0           0   \n",
       "1         1       1      1      0  71.2833          4           1           0   \n",
       "2         1       3      0      0   7.9250          3           0           0   \n",
       "3         1       1      1      0  53.1000          4           0           0   \n",
       "4         0       3      0      0   8.0500          4           0           0   \n",
       "\n",
       "   sex_bi  title_label  \n",
       "0       1            6  \n",
       "1       0            6  \n",
       "2       0            5  \n",
       "3       0            6  \n",
       "4       1            6  "
      ]
     },
     "execution_count": 50,
     "metadata": {},
     "output_type": "execute_result"
    }
   ],
   "source": [
    "drop2 = drop1.drop(['embarked_S'], axis=1)\n",
    "\n",
    "drop2.head()"
   ]
  },
  {
   "cell_type": "code",
   "execution_count": 51,
   "metadata": {},
   "outputs": [],
   "source": [
    "X_train = drop2.drop(\"Survived\", axis=1)\n",
    "Y_train = drop2[\"Survived\"]"
   ]
  },
  {
   "cell_type": "markdown",
   "metadata": {},
   "source": [
    "I will also increase the # of samples for this one"
   ]
  },
  {
   "cell_type": "code",
   "execution_count": 52,
   "metadata": {},
   "outputs": [
    {
     "name": "stdout",
     "output_type": "stream",
     "text": [
      "Train score: 0.92624899530437\n",
      "Test score: 0.7223529411764705\n"
     ]
    }
   ],
   "source": [
    "rf = RandomForestClassifier(n_estimators=1000, bootstrap = True)\n",
    "scores = cross_validate(rf, X_train, Y_train, cv=10, scoring='recall', return_train_score=True)\n",
    "\n",
    "print(\"Train score:\", scores['train_score'].mean())\n",
    "print(\"Test score:\", scores['test_score'].mean())"
   ]
  },
  {
   "cell_type": "markdown",
   "metadata": {},
   "source": [
    "I did closed the gap a little, but the difference is not much"
   ]
  },
  {
   "cell_type": "markdown",
   "metadata": {},
   "source": [
    "## Random forest for feature importance"
   ]
  },
  {
   "cell_type": "code",
   "execution_count": 53,
   "metadata": {},
   "outputs": [
    {
     "data": {
      "text/plain": [
       "array([0.09175277, 0.06359935, 0.03891023, 0.30843381, 0.11570868,\n",
       "       0.02325692, 0.01305114, 0.25721857, 0.08806853])"
      ]
     },
     "execution_count": 53,
     "metadata": {},
     "output_type": "execute_result"
    }
   ],
   "source": [
    "rf.fit(X_train, Y_train)\n",
    "rf.feature_importances_"
   ]
  },
  {
   "cell_type": "code",
   "execution_count": 54,
   "metadata": {},
   "outputs": [
    {
     "data": {
      "text/html": [
       "<div>\n",
       "<style scoped>\n",
       "    .dataframe tbody tr th:only-of-type {\n",
       "        vertical-align: middle;\n",
       "    }\n",
       "\n",
       "    .dataframe tbody tr th {\n",
       "        vertical-align: top;\n",
       "    }\n",
       "\n",
       "    .dataframe thead th {\n",
       "        text-align: right;\n",
       "    }\n",
       "</style>\n",
       "<table border=\"1\" class=\"dataframe\">\n",
       "  <thead>\n",
       "    <tr style=\"text-align: right;\">\n",
       "      <th></th>\n",
       "      <th>importance</th>\n",
       "    </tr>\n",
       "  </thead>\n",
       "  <tbody>\n",
       "    <tr>\n",
       "      <th>Fare</th>\n",
       "      <td>0.308434</td>\n",
       "    </tr>\n",
       "    <tr>\n",
       "      <th>sex_bi</th>\n",
       "      <td>0.257219</td>\n",
       "    </tr>\n",
       "    <tr>\n",
       "      <th>age_group</th>\n",
       "      <td>0.115709</td>\n",
       "    </tr>\n",
       "    <tr>\n",
       "      <th>Pclass</th>\n",
       "      <td>0.091753</td>\n",
       "    </tr>\n",
       "    <tr>\n",
       "      <th>title_label</th>\n",
       "      <td>0.088069</td>\n",
       "    </tr>\n",
       "    <tr>\n",
       "      <th>SibSp</th>\n",
       "      <td>0.063599</td>\n",
       "    </tr>\n",
       "    <tr>\n",
       "      <th>Parch</th>\n",
       "      <td>0.038910</td>\n",
       "    </tr>\n",
       "    <tr>\n",
       "      <th>embarked_C</th>\n",
       "      <td>0.023257</td>\n",
       "    </tr>\n",
       "    <tr>\n",
       "      <th>embarked_Q</th>\n",
       "      <td>0.013051</td>\n",
       "    </tr>\n",
       "  </tbody>\n",
       "</table>\n",
       "</div>"
      ],
      "text/plain": [
       "             importance\n",
       "Fare           0.308434\n",
       "sex_bi         0.257219\n",
       "age_group      0.115709\n",
       "Pclass         0.091753\n",
       "title_label    0.088069\n",
       "SibSp          0.063599\n",
       "Parch          0.038910\n",
       "embarked_C     0.023257\n",
       "embarked_Q     0.013051"
      ]
     },
     "execution_count": 54,
     "metadata": {},
     "output_type": "execute_result"
    }
   ],
   "source": [
    "feat_imp = pd.DataFrame(rf.feature_importances_,\n",
    "                                   index = X_train.columns,\n",
    "                                    columns=['importance']).sort_values('importance', ascending=False)\n",
    "feat_imp"
   ]
  },
  {
   "cell_type": "code",
   "execution_count": 55,
   "metadata": {},
   "outputs": [
    {
     "data": {
      "text/plain": [
       "<matplotlib.axes._subplots.AxesSubplot at 0x7f494d9c9908>"
      ]
     },
     "execution_count": 55,
     "metadata": {},
     "output_type": "execute_result"
    },
    {
     "data": {
      "image/png": "[encoded data removed]",
      "text/plain": [
       "<Figure size 432x288 with 1 Axes>"
      ]
     },
     "metadata": {
      "needs_background": "light"
     },
     "output_type": "display_data"
    }
   ],
   "source": [
    "import matplotlib.pyplot as plt\n",
    "feat_imp.plot.bar(y='importance')"
   ]
  },
  {
   "cell_type": "markdown",
   "metadata": {},
   "source": [
    "## Dropping least important features"
   ]
  },
  {
   "cell_type": "code",
   "execution_count": 56,
   "metadata": {},
   "outputs": [
    {
     "data": {
      "text/html": [
       "<div>\n",
       "<style scoped>\n",
       "    .dataframe tbody tr th:only-of-type {\n",
       "        vertical-align: middle;\n",
       "    }\n",
       "\n",
       "    .dataframe tbody tr th {\n",
       "        vertical-align: top;\n",
       "    }\n",
       "\n",
       "    .dataframe thead th {\n",
       "        text-align: right;\n",
       "    }\n",
       "</style>\n",
       "<table border=\"1\" class=\"dataframe\">\n",
       "  <thead>\n",
       "    <tr style=\"text-align: right;\">\n",
       "      <th></th>\n",
       "      <th>Survived</th>\n",
       "      <th>Pclass</th>\n",
       "      <th>SibSp</th>\n",
       "      <th>Parch</th>\n",
       "      <th>Fare</th>\n",
       "      <th>age_group</th>\n",
       "      <th>sex_bi</th>\n",
       "      <th>title_label</th>\n",
       "    </tr>\n",
       "  </thead>\n",
       "  <tbody>\n",
       "    <tr>\n",
       "      <th>0</th>\n",
       "      <td>0</td>\n",
       "      <td>3</td>\n",
       "      <td>1</td>\n",
       "      <td>0</td>\n",
       "      <td>7.2500</td>\n",
       "      <td>2</td>\n",
       "      <td>1</td>\n",
       "      <td>6</td>\n",
       "    </tr>\n",
       "    <tr>\n",
       "      <th>1</th>\n",
       "      <td>1</td>\n",
       "      <td>1</td>\n",
       "      <td>1</td>\n",
       "      <td>0</td>\n",
       "      <td>71.2833</td>\n",
       "      <td>4</td>\n",
       "      <td>0</td>\n",
       "      <td>6</td>\n",
       "    </tr>\n",
       "    <tr>\n",
       "      <th>2</th>\n",
       "      <td>1</td>\n",
       "      <td>3</td>\n",
       "      <td>0</td>\n",
       "      <td>0</td>\n",
       "      <td>7.9250</td>\n",
       "      <td>3</td>\n",
       "      <td>0</td>\n",
       "      <td>5</td>\n",
       "    </tr>\n",
       "    <tr>\n",
       "      <th>3</th>\n",
       "      <td>1</td>\n",
       "      <td>1</td>\n",
       "      <td>1</td>\n",
       "      <td>0</td>\n",
       "      <td>53.1000</td>\n",
       "      <td>4</td>\n",
       "      <td>0</td>\n",
       "      <td>6</td>\n",
       "    </tr>\n",
       "    <tr>\n",
       "      <th>4</th>\n",
       "      <td>0</td>\n",
       "      <td>3</td>\n",
       "      <td>0</td>\n",
       "      <td>0</td>\n",
       "      <td>8.0500</td>\n",
       "      <td>4</td>\n",
       "      <td>1</td>\n",
       "      <td>6</td>\n",
       "    </tr>\n",
       "  </tbody>\n",
       "</table>\n",
       "</div>"
      ],
      "text/plain": [
       "   Survived  Pclass  SibSp  Parch     Fare  age_group  sex_bi  title_label\n",
       "0         0       3      1      0   7.2500          2       1            6\n",
       "1         1       1      1      0  71.2833          4       0            6\n",
       "2         1       3      0      0   7.9250          3       0            5\n",
       "3         1       1      1      0  53.1000          4       0            6\n",
       "4         0       3      0      0   8.0500          4       1            6"
      ]
     },
     "execution_count": 56,
     "metadata": {},
     "output_type": "execute_result"
    }
   ],
   "source": [
    "drop3 = drop2.drop(['embarked_C', 'embarked_Q'], axis=1)\n",
    "drop3.head()"
   ]
  },
  {
   "cell_type": "code",
   "execution_count": 57,
   "metadata": {},
   "outputs": [],
   "source": [
    "X_train = drop3.drop(\"Survived\", axis=1)\n",
    "Y_train = drop3[\"Survived\"]"
   ]
  },
  {
   "cell_type": "code",
   "execution_count": 58,
   "metadata": {},
   "outputs": [
    {
     "name": "stdout",
     "output_type": "stream",
     "text": [
      "Train score: 0.918125766741402\n",
      "Test score: 0.7224369747899159\n"
     ]
    }
   ],
   "source": [
    "rf = RandomForestClassifier(n_estimators=1000, bootstrap = True)\n",
    "scores = cross_validate(rf, X_train, Y_train, cv=10, scoring='recall', return_train_score=True)\n",
    "\n",
    "print(\"Train score:\", scores['train_score'].mean())\n",
    "print(\"Test score:\", scores['test_score'].mean())"
   ]
  },
  {
   "cell_type": "markdown",
   "metadata": {},
   "source": [
    "## Hyperparameters tunning"
   ]
  },
  {
   "cell_type": "code",
   "execution_count": 59,
   "metadata": {},
   "outputs": [
    {
     "name": "stdout",
     "output_type": "stream",
     "text": [
      "Fitting 10 folds for each of 10 candidates, totalling 100 fits\n"
     ]
    },
    {
     "name": "stderr",
     "output_type": "stream",
     "text": [
      "[Parallel(n_jobs=-1)]: Using backend LokyBackend with 8 concurrent workers.\n",
      "[Parallel(n_jobs=-1)]: Done  34 tasks      | elapsed:   11.5s\n",
      "[Parallel(n_jobs=-1)]: Done 100 out of 100 | elapsed:   33.3s finished\n"
     ]
    },
    {
     "data": {
      "text/plain": [
       "RandomizedSearchCV(cv=10, error_score='raise-deprecating',\n",
       "                   estimator=RandomForestClassifier(bootstrap=True,\n",
       "                                                    class_weight=None,\n",
       "                                                    criterion='gini',\n",
       "                                                    max_depth=None,\n",
       "                                                    max_features='auto',\n",
       "                                                    max_leaf_nodes=None,\n",
       "                                                    min_impurity_decrease=0.0,\n",
       "                                                    min_impurity_split=None,\n",
       "                                                    min_samples_leaf=1,\n",
       "                                                    min_samples_split=2,\n",
       "                                                    min_weight_fraction_leaf=0.0,\n",
       "                                                    n_estimators='warn',\n",
       "                                                    n_jobs=-1, oob_sco...\n",
       "                                        'min_samples_split': [2, 5, 10, 30],\n",
       "                                        'n_estimators': array([  50,   69,   88,  108,  127,  146,  166,  185,  205,  224,  243,\n",
       "        263,  282,  302,  321,  340,  360,  379,  398,  418,  437,  457,\n",
       "        476,  495,  515,  534,  554,  573,  592,  612,  631,  651,  670,\n",
       "        689,  709,  728,  747,  767,  786,  806,  825,  844,  864,  883,\n",
       "        903,  922,  941,  961,  980, 1000]),\n",
       "                                        'oob_score': [True]},\n",
       "                   pre_dispatch='2*n_jobs', random_state=78, refit=True,\n",
       "                   return_train_score=True, scoring='recall', verbose=1)"
      ]
     },
     "execution_count": 59,
     "metadata": {},
     "output_type": "execute_result"
    }
   ],
   "source": [
    "from sklearn.model_selection import RandomizedSearchCV\n",
    "\n",
    "# Hyperparameter grid\n",
    "param_grid = {\n",
    "    'n_estimators': np.linspace(50, 1000).astype(int),\n",
    "    'max_depth': [None] + list(np.linspace(3, 20).astype(int)),\n",
    "    'max_features': ['auto', 'sqrt', None] + list(np.arange(0.5, 1, 0.1)),\n",
    "    'max_leaf_nodes': [None] + list(np.linspace(10, 50, 500).astype(int)),\n",
    "    'min_samples_split': [2, 5, 10, 30],\n",
    "    'criterion': [\"gini\", \"entropy\"],\n",
    "    'bootstrap': [True],\n",
    "    'oob_score':[True],\n",
    "}\n",
    "\n",
    "# Estimator for use in random search\n",
    "estimator = RandomForestClassifier(n_jobs = -1, random_state = 42)\n",
    "\n",
    "# Create the random search model\n",
    "rs = RandomizedSearchCV(estimator, param_grid, n_jobs = -1, scoring='recall', return_train_score=True,\n",
    "                       cv =10, n_iter=10, verbose = 1, random_state=78)\n",
    "\n",
    "# Fit \n",
    "rs.fit(X_train, Y_train)"
   ]
  },
  {
   "cell_type": "code",
   "execution_count": 60,
   "metadata": {},
   "outputs": [
    {
     "data": {
      "text/plain": [
       "RandomForestClassifier(bootstrap=True, class_weight=None, criterion='entropy',\n",
       "                       max_depth=16, max_features=0.7, max_leaf_nodes=39,\n",
       "                       min_impurity_decrease=0.0, min_impurity_split=None,\n",
       "                       min_samples_leaf=1, min_samples_split=2,\n",
       "                       min_weight_fraction_leaf=0.0, n_estimators=922,\n",
       "                       n_jobs=-1, oob_score=True, random_state=42, verbose=0,\n",
       "                       warm_start=False)"
      ]
     },
     "execution_count": 60,
     "metadata": {},
     "output_type": "execute_result"
    }
   ],
   "source": [
    "rs.best_estimator_"
   ]
  },
  {
   "cell_type": "code",
   "execution_count": 61,
   "metadata": {},
   "outputs": [
    {
     "name": "stdout",
     "output_type": "stream",
     "text": [
      "Train score:  0.7683592791573248\n",
      "Test score:  0.6982052080091296\n"
     ]
    }
   ],
   "source": [
    "print('Train score: ',rs.cv_results_['mean_train_score'].mean())\n",
    "print('Test score: ',rs.cv_results_['mean_test_score'].mean())"
   ]
  },
  {
   "cell_type": "code",
   "execution_count": 62,
   "metadata": {},
   "outputs": [
    {
     "name": "stdout",
     "output_type": "stream",
     "text": [
      "Train acc: 0.9011094000671196\n",
      "Test acc: 0.8316686528203382\n",
      "Train recall: 0.8157927577308686\n",
      "Test recall: 0.7135294117647059\n"
     ]
    }
   ],
   "source": [
    "rf = RandomForestClassifier(bootstrap=True, class_weight=None, criterion='entropy',\n",
    "                       max_depth=16, max_features=0.7, max_leaf_nodes=39,\n",
    "                       min_impurity_decrease=0.0, min_impurity_split=None,\n",
    "                       min_samples_leaf=1, min_samples_split=2,\n",
    "                       min_weight_fraction_leaf=0.0, n_estimators=922,\n",
    "                       n_jobs=-1, oob_score=True, random_state=42, verbose=0,\n",
    "                       warm_start=False)\n",
    "scores = cross_validate(rf, X_train, Y_train, cv=10, scoring=['recall', 'accuracy'], \n",
    "                        return_train_score=True, return_estimator=True)\n",
    "\n",
    "print(\"Train acc:\", scores['train_accuracy'].mean())\n",
    "print(\"Test acc:\", scores['test_accuracy'].mean())\n",
    "\n",
    "print(\"Train recall:\", scores['train_recall'].mean())\n",
    "print(\"Test recall:\", scores['test_recall'].mean())"
   ]
  },
  {
   "cell_type": "code",
   "execution_count": 63,
   "metadata": {},
   "outputs": [
    {
     "name": "stderr",
     "output_type": "stream",
     "text": [
      "/home/jorge/Envs/cppl/lib/python3.5/site-packages/sklearn/externals/joblib/__init__.py:15: DeprecationWarning: sklearn.externals.joblib is deprecated in 0.21 and will be removed in 0.23. Please import this functionality directly from joblib, which can be installed with: pip install joblib. If this warning is raised when loading pickled models, you may need to re-serialize those models with scikit-learn 0.21+.\n",
      "  warnings.warn(msg, category=DeprecationWarning)\n"
     ]
    },
    {
     "data": {
      "text/plain": [
       "['rf1.sav']"
      ]
     },
     "execution_count": 63,
     "metadata": {},
     "output_type": "execute_result"
    }
   ],
   "source": [
    "from sklearn.externals import joblib\n",
    "\n",
    "X = drop3.drop(\"Survived\", axis=1)\n",
    "Y = drop3[\"Survived\"]\n",
    "\n",
    "rf.fit(X, Y)\n",
    "\n",
    "# save the model to disk\n",
    "filename = 'rf1.sav'\n",
    "joblib.dump(rf, filename)"
   ]
  },
  {
   "cell_type": "markdown",
   "metadata": {},
   "source": [
    "## NEXT STEPS\n",
    "\n",
    "I have reduced the varience significantly but it seems we still have some overfitting and we could also benefit if we increase our model performance in general.\n",
    "\n",
    "* Deal with imbalanced data: I would suggest re-sampling the data with a synthetic method (SMOTE). (For RF model)\n",
    "* Try with Naive bayes model, improve performance.\n",
    "* Improve features: by using other encoding or some clever engineering.\n",
    "    - Combine features in a meaningful way (or randomly).\n",
    "    - Carefully choose encoding method"
   ]
  },
  {
   "cell_type": "markdown",
   "metadata": {},
   "source": [
    "# Summary\n",
    "\n",
    "## Exploring\n",
    "* Description\n",
    "* Missing values\n",
    "* Check distribution\n",
    "\n",
    "## Cleaning\n",
    "* Filling missing values from `Age`, `Cabin` and `Embarked`\n",
    "\n",
    "## Feature Engineering\n",
    "* New feature combining `SibSp` and `Parch`: `fam_size`.\n",
    "* Extract a new feature: `Title`. Which would give us some information about the person.\n",
    "* Encoding: `Title`, `Embarked` and `Sex`.\n",
    "\n",
    "## Feature Selection\n",
    "* Dropping `Cabin`, `PassengerId`, `Name` and `Ticket`\n",
    "* Check correlations\n",
    "\n",
    "## Modeling Baseline\n",
    "* Random forest\n",
    "* Logistic regression\n",
    "* Naive bayes\n",
    "* SVM\n",
    "* Compare models\n",
    "\n",
    "## Bias-Variance Balance\n",
    "* Train vs test and confusion matrix: first 2 best models\n",
    "\n",
    "## Attacking identified variance problem:\n",
    "* Dropping features\n",
    "* Check feature importance\n",
    "* Drop more features\n",
    "* Hyperparameter tuning: with random search\n",
    "    - Added more trees\n",
    "    - set number of leafs and max depth\n",
    "* Re-train with best estimator and chosen features and check for the last time.\n",
    "* Fit our estimator\n",
    "\n",
    "## Save model\n"
   ]
  }
 ],
 "metadata": {
  "kernelspec": {
   "display_name": "cppl",
   "language": "python",
   "name": "cppl"
  },
  "language_info": {
   "codemirror_mode": {
    "name": "ipython",
    "version": 3
   },
   "file_extension": ".py",
   "mimetype": "text/x-python",
   "name": "python",
   "nbconvert_exporter": "python",
   "pygments_lexer": "ipython3",
   "version": "3.5.2"
  }
 },
 "nbformat": 4,
 "nbformat_minor": 2
}
